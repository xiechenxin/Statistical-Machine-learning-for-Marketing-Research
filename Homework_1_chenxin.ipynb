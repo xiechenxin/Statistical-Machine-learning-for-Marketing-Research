{
 "cells": [
  {
   "cell_type": "markdown",
   "metadata": {},
   "source": [
    "![ieseg logo](./img/ieseg.png)\n",
    "\n",
    "#### MBD 2019-2020\n",
    "# Statistical & Machine Learning Approaches for Marketing\n",
    "\n",
    "## Section 1: Introduction & Linear Regression"
   ]
  },
  {
   "cell_type": "markdown",
   "metadata": {},
   "source": [
    "**1. Import all required libraries and datasets**"
   ]
  },
  {
   "cell_type": "code",
   "execution_count": 1,
   "metadata": {},
   "outputs": [
    {
     "name": "stderr",
     "output_type": "stream",
     "text": [
      "Warning message:\n",
      "\"package 'mlr' was built under R version 3.6.2\"Loading required package: ParamHelpers\n",
      "Warning message:\n",
      "\"package 'ParamHelpers' was built under R version 3.6.2\"'mlr' is in maintenance mode since July 2019. Future development\n",
      "efforts will go into its successor 'mlr3' (<https://mlr3.mlr-org.com>).\n",
      "Warning message:\n",
      "\"package 'caret' was built under R version 3.6.2\"Loading required package: lattice\n",
      "Warning message:\n",
      "\"package 'lattice' was built under R version 3.6.2\"Loading required package: ggplot2\n",
      "\n",
      "Attaching package: 'caret'\n",
      "\n",
      "The following object is masked from 'package:mlr':\n",
      "\n",
      "    train\n",
      "\n",
      "Warning message:\n",
      "\"package 'ISLR' was built under R version 3.6.2\"Warning message:\n",
      "\"package 'MASS' was built under R version 3.6.2\""
     ]
    },
    {
     "data": {
      "text/html": [
       "'R version 3.6.1 (2019-07-05)'"
      ],
      "text/latex": [
       "'R version 3.6.1 (2019-07-05)'"
      ],
      "text/markdown": [
       "'R version 3.6.1 (2019-07-05)'"
      ],
      "text/plain": [
       "[1] \"R version 3.6.1 (2019-07-05)\""
      ]
     },
     "metadata": {},
     "output_type": "display_data"
    }
   ],
   "source": [
    "# Set environment params\n",
    "Sys.setenv(LANG='en')  # English\n",
    "\n",
    "# Import libraries\n",
    "library(data.table)  # Data manipulate\n",
    "library(mlr)         # ML toolkit\n",
    "library(caret)       # ML toolkit\n",
    "library(ggplot2)     # Visualization\n",
    "\n",
    "# Import data\n",
    "library(ISLR)      # Data from the course book\n",
    "library(MASS)      # Boston housing dataset\n",
    "library(datasets)  # US crime dataset\n",
    "\n",
    "# Resize plot\n",
    "library(repr)  # String and binary representations\n",
    "#options(repr.plot.width=4, repr.plot.height=4)\n",
    "\n",
    "R.version.string"
   ]
  },
  {
   "cell_type": "code",
   "execution_count": 2,
   "metadata": {},
   "outputs": [],
   "source": [
    "# Install missing packages\n",
    "# install.packages(\"ISLR\")"
   ]
  },
  {
   "cell_type": "code",
   "execution_count": 2,
   "metadata": {},
   "outputs": [
    {
     "data": {
      "text/html": [
       "<table>\n",
       "<thead><tr><th scope=col>TV</th><th scope=col>radio</th><th scope=col>newspaper</th><th scope=col>sales</th></tr></thead>\n",
       "<tbody>\n",
       "\t<tr><td>230.1</td><td>37.8 </td><td>69.2 </td><td>22.1 </td></tr>\n",
       "\t<tr><td> 44.5</td><td>39.3 </td><td>45.1 </td><td>10.4 </td></tr>\n",
       "\t<tr><td> 17.2</td><td>45.9 </td><td>69.3 </td><td> 9.3 </td></tr>\n",
       "\t<tr><td>151.5</td><td>41.3 </td><td>58.5 </td><td>18.5 </td></tr>\n",
       "\t<tr><td>180.8</td><td>10.8 </td><td>58.4 </td><td>12.9 </td></tr>\n",
       "\t<tr><td>  8.7</td><td>48.9 </td><td>75.0 </td><td> 7.2 </td></tr>\n",
       "</tbody>\n",
       "</table>\n"
      ],
      "text/latex": [
       "\\begin{tabular}{r|llll}\n",
       " TV & radio & newspaper & sales\\\\\n",
       "\\hline\n",
       "\t 230.1 & 37.8  & 69.2  & 22.1 \\\\\n",
       "\t  44.5 & 39.3  & 45.1  & 10.4 \\\\\n",
       "\t  17.2 & 45.9  & 69.3  &  9.3 \\\\\n",
       "\t 151.5 & 41.3  & 58.5  & 18.5 \\\\\n",
       "\t 180.8 & 10.8  & 58.4  & 12.9 \\\\\n",
       "\t   8.7 & 48.9  & 75.0  &  7.2 \\\\\n",
       "\\end{tabular}\n"
      ],
      "text/markdown": [
       "\n",
       "| TV | radio | newspaper | sales |\n",
       "|---|---|---|---|\n",
       "| 230.1 | 37.8  | 69.2  | 22.1  |\n",
       "|  44.5 | 39.3  | 45.1  | 10.4  |\n",
       "|  17.2 | 45.9  | 69.3  |  9.3  |\n",
       "| 151.5 | 41.3  | 58.5  | 18.5  |\n",
       "| 180.8 | 10.8  | 58.4  | 12.9  |\n",
       "|   8.7 | 48.9  | 75.0  |  7.2  |\n",
       "\n"
      ],
      "text/plain": [
       "  TV    radio newspaper sales\n",
       "1 230.1 37.8  69.2      22.1 \n",
       "2  44.5 39.3  45.1      10.4 \n",
       "3  17.2 45.9  69.3       9.3 \n",
       "4 151.5 41.3  58.5      18.5 \n",
       "5 180.8 10.8  58.4      12.9 \n",
       "6   8.7 48.9  75.0       7.2 "
      ]
     },
     "metadata": {},
     "output_type": "display_data"
    }
   ],
   "source": [
    "# Import Advertising data\n",
    "adv <- read.csv('./data/Advertising.csv', row.names=1)\n",
    "head(adv)"
   ]
  },
  {
   "cell_type": "markdown",
   "metadata": {},
   "source": [
    "**Exercise 1:** Calculate B0, B1 for Sales ~ f(TV)"
   ]
  },
  {
   "cell_type": "code",
   "execution_count": 42,
   "metadata": {},
   "outputs": [
    {
     "name": "stdout",
     "output_type": "stream",
     "text": [
      "[1] \"B0= 7.0325935491277 B1= 0.0475366404330197\"\n"
     ]
    }
   ],
   "source": [
    "mean_x <- mean(adv[, \"TV\"])\n",
    "mean_y <- mean(adv[, \"sales\"])\n",
    "\n",
    "a <- 0\n",
    "b <- 0\n",
    "for (i in 1:dim(adv)[1]) {\n",
    "    a <- a + (adv[i, \"TV\"]-mean_x)*(adv[i, \"sales\"]-mean_y)\n",
    "    b <- b + (adv[i, \"TV\"]-mean_x)^2\n",
    "}\n",
    "B1 <- a/b\n",
    "B0 <- mean_y-B1*mean_x\n",
    "\n",
    "print(paste(\"B0=\", B0, \"B1=\", B1))"
   ]
  },
  {
   "cell_type": "code",
   "execution_count": 13,
   "metadata": {},
   "outputs": [
    {
     "data": {
      "text/plain": [
       "\n",
       "Call:\n",
       "lm(formula = sales ~ TV, data = adv)\n",
       "\n",
       "Residuals:\n",
       "    Min      1Q  Median      3Q     Max \n",
       "-8.3860 -1.9545 -0.1913  2.0671  7.2124 \n",
       "\n",
       "Coefficients:\n",
       "            Estimate Std. Error t value Pr(>|t|)    \n",
       "(Intercept) 7.032594   0.457843   15.36   <2e-16 ***\n",
       "TV          0.047537   0.002691   17.67   <2e-16 ***\n",
       "---\n",
       "Signif. codes:  0 '***' 0.001 '**' 0.01 '*' 0.05 '.' 0.1 ' ' 1\n",
       "\n",
       "Residual standard error: 3.259 on 198 degrees of freedom\n",
       "Multiple R-squared:  0.6119,\tAdjusted R-squared:  0.6099 \n",
       "F-statistic: 312.1 on 1 and 198 DF,  p-value: < 2.2e-16\n"
      ]
     },
     "metadata": {},
     "output_type": "display_data"
    }
   ],
   "source": [
    "# Check B0, B1 by lm function\n",
    "md <- lm(sales ~ TV, data=adv)\n",
    "summary(md)"
   ]
  },
  {
   "cell_type": "markdown",
   "metadata": {},
   "source": [
    "**Exercise 2:** Calculate B0, B1 for Sales ~ f(Radio)"
   ]
  },
  {
   "cell_type": "code",
   "execution_count": 44,
   "metadata": {},
   "outputs": [
    {
     "name": "stdout",
     "output_type": "stream",
     "text": [
      "[1] \"B0= 9.31163809515829 B1= 0.20249578339244\"\n"
     ]
    }
   ],
   "source": [
    "mean_x <- mean(adv[, \"radio\"])\n",
    "mean_y <- mean(adv[, \"sales\"])\n",
    "\n",
    "a <- 0\n",
    "b <- 0\n",
    "for (i in 1:dim(adv)[1]) {\n",
    "    a <- a + (adv[i, \"radio\"]-mean_x)*(adv[i, \"sales\"]-mean_y)\n",
    "    b <- b + (adv[i, \"radio\"]-mean_x)^2\n",
    "}\n",
    "B1 <- a/b\n",
    "B0 <- mean_y-B1*mean_x\n",
    "\n",
    "print(paste(\"B0=\", B0, \"B1=\", B1))"
   ]
  },
  {
   "cell_type": "code",
   "execution_count": 126,
   "metadata": {},
   "outputs": [
    {
     "data": {
      "text/plain": [
       "\n",
       "Call:\n",
       "lm(formula = sales ~ radio, data = adv)\n",
       "\n",
       "Residuals:\n",
       "     Min       1Q   Median       3Q      Max \n",
       "-15.7305  -2.1324   0.7707   2.7775   8.1810 \n",
       "\n",
       "Coefficients:\n",
       "            Estimate Std. Error t value Pr(>|t|)    \n",
       "(Intercept)  9.31164    0.56290  16.542   <2e-16 ***\n",
       "radio        0.20250    0.02041   9.921   <2e-16 ***\n",
       "---\n",
       "Signif. codes:  0 '***' 0.001 '**' 0.01 '*' 0.05 '.' 0.1 ' ' 1\n",
       "\n",
       "Residual standard error: 4.275 on 198 degrees of freedom\n",
       "Multiple R-squared:  0.332,\tAdjusted R-squared:  0.3287 \n",
       "F-statistic: 98.42 on 1 and 198 DF,  p-value: < 2.2e-16\n"
      ]
     },
     "metadata": {},
     "output_type": "display_data"
    }
   ],
   "source": [
    "# Check B0, B1 by lm function\n",
    "summary(lm(sales ~ radio, data=adv))"
   ]
  },
  {
   "cell_type": "markdown",
   "metadata": {},
   "source": [
    "**Exercise 3:** Calculate the 95% confidence interval of B0, B1 for model Sales ~ f(TV)?"
   ]
  },
  {
   "cell_type": "code",
   "execution_count": 40,
   "metadata": {},
   "outputs": [
    {
     "name": "stdout",
     "output_type": "stream",
     "text": [
      "[1] 7.089525 6.975663\n",
      "[1]  9.735077 -9.640003\n",
      "[1] \"B1 =7.08952479877717\" \"B1 =6.97566320122283\"\n"
     ]
    }
   ],
   "source": [
    "# B0 and B1 from exercise 1\n",
    "B1 <- 7.032594\n",
    "B0 <- 0.047537\n",
    "\n",
    "#calculate RSS\n",
    "RSS <- 0\n",
    "a <- mean(adv$TV)\n",
    "b <- 0\n",
    "\n",
    "for (i in 1:dim(adv)[1]) {\n",
    "    RSS <- RSS + (adv[i, \"sales\"]-B0-B1*adv[i, \"TV\"])^2\n",
    "    b <- b + (adv[i, \"TV\"]-a)^2\n",
    "}\n",
    "\n",
    "#calculate RSE\n",
    "RSE <- sqrt(RSS/(dim(adv)[1]-2))\n",
    "\n",
    "#calculate SE \n",
    "SE_B1 <- sqrt(RSE/b)\n",
    "SE_B0 <- sqrt(RSE*((1/nrow(adv)) + (a^2)/b))\n",
    "\n",
    "# calculate the 95% confidence interval of B0, B1\n",
    " B1_upper <- B1 + 2*SE_B1\n",
    " B1_lower <- B1 - 2*SE_B1\n",
    "\n",
    " B0_upper <- B0 + 2*SE_B0\n",
    " B0_lower <- B0 - 2*SE_B0\n",
    "\n",
    " B1 <- c(B1_upper, B1_lower)\n",
    " B0 <- c(B0_upper, B0_lower)\n",
    "\n",
    " print(B1)\n",
    " print(B0)"
   ]
  },
  {
   "cell_type": "code",
   "execution_count": 24,
   "metadata": {},
   "outputs": [
    {
     "data": {
      "text/plain": [
       "\n",
       "Call:\n",
       "lm(formula = sales ~ TV, data = adv)\n",
       "\n",
       "Residuals:\n",
       "    Min      1Q  Median      3Q     Max \n",
       "-8.3860 -1.9545 -0.1913  2.0671  7.2124 \n",
       "\n",
       "Coefficients:\n",
       "            Estimate Std. Error t value Pr(>|t|)    \n",
       "(Intercept) 7.032594   0.457843   15.36   <2e-16 ***\n",
       "TV          0.047537   0.002691   17.67   <2e-16 ***\n",
       "---\n",
       "Signif. codes:  0 '***' 0.001 '**' 0.01 '*' 0.05 '.' 0.1 ' ' 1\n",
       "\n",
       "Residual standard error: 3.259 on 198 degrees of freedom\n",
       "Multiple R-squared:  0.6119,\tAdjusted R-squared:  0.6099 \n",
       "F-statistic: 312.1 on 1 and 198 DF,  p-value: < 2.2e-16\n"
      ]
     },
     "metadata": {},
     "output_type": "display_data"
    }
   ],
   "source": [
    "# Double check with the lm function\n",
    "md <- lm(sales ~ TV, data=adv)\n",
    "summary(md)"
   ]
  },
  {
   "cell_type": "markdown",
   "metadata": {},
   "source": [
    "**Exercise 4:** Calculate the t-statistic and p-value for predictors radio and newspaper."
   ]
  },
  {
   "cell_type": "markdown",
   "metadata": {},
   "source": [
    "Calculate t-statistic for Sales ~ f(Radio)"
   ]
  },
  {
   "cell_type": "code",
   "execution_count": 146,
   "metadata": {},
   "outputs": [
    {
     "data": {
      "text/plain": [
       "\n",
       "Call:\n",
       "lm(formula = sales ~ radio, data = adv)\n",
       "\n",
       "Residuals:\n",
       "     Min       1Q   Median       3Q      Max \n",
       "-15.7305  -2.1324   0.7707   2.7775   8.1810 \n",
       "\n",
       "Coefficients:\n",
       "            Estimate Std. Error t value Pr(>|t|)    \n",
       "(Intercept)  9.31164    0.56290  16.542   <2e-16 ***\n",
       "radio        0.20250    0.02041   9.921   <2e-16 ***\n",
       "---\n",
       "Signif. codes:  0 '***' 0.001 '**' 0.01 '*' 0.05 '.' 0.1 ' ' 1\n",
       "\n",
       "Residual standard error: 4.275 on 198 degrees of freedom\n",
       "Multiple R-squared:  0.332,\tAdjusted R-squared:  0.3287 \n",
       "F-statistic: 98.42 on 1 and 198 DF,  p-value: < 2.2e-16\n"
      ]
     },
     "metadata": {},
     "output_type": "display_data"
    }
   ],
   "source": [
    "# Show the model of Sales ~ f(Radio)\n",
    "md <- lm(sales ~ radio, data=adv)\n",
    "summary(md)"
   ]
  },
  {
   "cell_type": "code",
   "execution_count": 39,
   "metadata": {},
   "outputs": [
    {
     "name": "stdout",
     "output_type": "stream",
     "text": [
      "[1] \"t =20.5125408657456\"\n"
     ]
    }
   ],
   "source": [
    "# result from exercise 2\n",
    " B1 <- 0.20250\n",
    " B0 <- 9.31164\n",
    "\n",
    "#calculate RSS\n",
    "RSS <- 0\n",
    "a <- mean(adv$radio)\n",
    "b <- 0\n",
    "\n",
    "for (i in 1:dim(adv)[1]) {\n",
    "    RSS <- RSS + (adv[i, \"sales\"]-B0-B1*adv[i, \"radio\"])^2\n",
    "    b <- b + (adv[i, \"radio\"]-a)^2\n",
    "}\n",
    "\n",
    "#calculate RSE\n",
    "RSE <- sqrt(RSS/(nrow(adv)-2))\n",
    "\n",
    "#calculate SE \n",
    "SE_B1 <- sqrt(RSE/b)\n",
    "\n",
    "#calculate t\n",
    "t <- B1/SE_B1\n",
    "print(paste0(\"t =\", t))"
   ]
  },
  {
   "cell_type": "markdown",
   "metadata": {},
   "source": [
    "Calculate t-statistic for Sales ~ f(Newspaper)"
   ]
  },
  {
   "cell_type": "code",
   "execution_count": 142,
   "metadata": {},
   "outputs": [
    {
     "data": {
      "text/plain": [
       "\n",
       "Call:\n",
       "lm(formula = sales ~ newspaper, data = adv)\n",
       "\n",
       "Residuals:\n",
       "     Min       1Q   Median       3Q      Max \n",
       "-11.2272  -3.3873  -0.8392   3.5059  12.7751 \n",
       "\n",
       "Coefficients:\n",
       "            Estimate Std. Error t value Pr(>|t|)    \n",
       "(Intercept) 12.35141    0.62142   19.88  < 2e-16 ***\n",
       "newspaper    0.05469    0.01658    3.30  0.00115 ** \n",
       "---\n",
       "Signif. codes:  0 '***' 0.001 '**' 0.01 '*' 0.05 '.' 0.1 ' ' 1\n",
       "\n",
       "Residual standard error: 5.092 on 198 degrees of freedom\n",
       "Multiple R-squared:  0.05212,\tAdjusted R-squared:  0.04733 \n",
       "F-statistic: 10.89 on 1 and 198 DF,  p-value: 0.001148\n"
      ]
     },
     "metadata": {},
     "output_type": "display_data"
    }
   ],
   "source": [
    "# Show the model of Sales ~ f(Newspaper)\n",
    "md <- lm(sales ~ newspaper, data=adv)\n",
    "summary(md)"
   ]
  },
  {
   "cell_type": "code",
   "execution_count": 41,
   "metadata": {},
   "outputs": [
    {
     "name": "stdout",
     "output_type": "stream",
     "text": [
      "[1] \"t = 7.4460295988044\"\n"
     ]
    }
   ],
   "source": [
    "# calculate B0 and B1\n",
    "mean_x <- mean(adv$newspaper)\n",
    "mean_y <- mean(adv$sales)\n",
    "\n",
    "a <- 0\n",
    "b <- 0\n",
    "for (i in 1:dim(adv)[1]) {\n",
    "    a <- a + (adv[i, \"newspaper\"]-mean_x)*(adv[i, \"sales\"]-mean_y)\n",
    "    b <- b + (adv[i, \"newspaper\"]-mean_x)^2\n",
    "}\n",
    "B1 <- a/b\n",
    "B0 <- mean_y-B1*mean_x\n",
    "\n",
    "#calculate RSS\n",
    "RSS <- 0\n",
    "c <- 0\n",
    "\n",
    "for (i in 1:dim(adv)[1]) {\n",
    "    RSS <- RSS + (adv[i, \"sales\"]-B0-B1*adv[i, \"newspaper\"])^2\n",
    "    c <- c + (adv[i, \"newspaper\"]-mean_x)^2\n",
    "}\n",
    "\n",
    "#calculate RSE\n",
    "RSE <- sqrt(RSS/(nrow(adv)-2))\n",
    "\n",
    "#calculate SE \n",
    "SE_B1 <- sqrt(RSE/c)\n",
    "\n",
    "#calculate t\n",
    "t <- B1/SE_B1\n",
    "print(paste0(\"t = \", t))"
   ]
  },
  {
   "cell_type": "markdown",
   "metadata": {},
   "source": [
    "**Exercise 5:** Calculate the RSE and R-squared for predictors radio and newspaper."
   ]
  },
  {
   "cell_type": "markdown",
   "metadata": {},
   "source": [
    "Calculate the RSE and R-squared for Sales ~ f(Radio)"
   ]
  },
  {
   "cell_type": "code",
   "execution_count": 145,
   "metadata": {},
   "outputs": [
    {
     "data": {
      "text/plain": [
       "\n",
       "Call:\n",
       "lm(formula = sales ~ radio, data = adv)\n",
       "\n",
       "Residuals:\n",
       "     Min       1Q   Median       3Q      Max \n",
       "-15.7305  -2.1324   0.7707   2.7775   8.1810 \n",
       "\n",
       "Coefficients:\n",
       "            Estimate Std. Error t value Pr(>|t|)    \n",
       "(Intercept)  9.31164    0.56290  16.542   <2e-16 ***\n",
       "radio        0.20250    0.02041   9.921   <2e-16 ***\n",
       "---\n",
       "Signif. codes:  0 '***' 0.001 '**' 0.01 '*' 0.05 '.' 0.1 ' ' 1\n",
       "\n",
       "Residual standard error: 4.275 on 198 degrees of freedom\n",
       "Multiple R-squared:  0.332,\tAdjusted R-squared:  0.3287 \n",
       "F-statistic: 98.42 on 1 and 198 DF,  p-value: < 2.2e-16\n"
      ]
     },
     "metadata": {},
     "output_type": "display_data"
    }
   ],
   "source": [
    "# Show the model of Sales ~ f(Radio)\n",
    "md <- lm(sales ~ radio, data=adv)\n",
    "summary(md)"
   ]
  },
  {
   "cell_type": "code",
   "execution_count": 42,
   "metadata": {},
   "outputs": [
    {
     "name": "stdout",
     "output_type": "stream",
     "text": [
      "[1] \"RSE = 4.27494435490106\"\n",
      "[1] \"R squared = 0.332032455445295\"\n"
     ]
    }
   ],
   "source": [
    "#calculate B0, B1\n",
    "mean_x <- mean(adv$radio)\n",
    "mean_y <- mean(adv$sales)\n",
    "\n",
    "a <- 0\n",
    "b <- 0\n",
    "for (i in 1:dim(adv)[1]) {\n",
    "    a <- a + (adv[i, \"radio\"]-mean_x)*(adv[i, \"sales\"]-mean_y)\n",
    "    b <- b + (adv[i, \"radio\"]-mean_x)^2\n",
    "}\n",
    "B1 <- a/b\n",
    "B0 <- mean_y-B1*mean_x\n",
    "\n",
    "#calculate RSS\n",
    "RSS <- 0\n",
    "TSS <- 0\n",
    "for (i in 1:dim(adv)[1]) {\n",
    "    RSS <- RSS + (adv[i, \"sales\"]-B0-B1*adv[i, \"radio\"])^2\n",
    "    TSS <- TSS + (adv[i, \"sales\"]-mean_y)^2\n",
    "}\n",
    "\n",
    "#calculate RSE\n",
    "RSE <- sqrt(RSS/(nrow(adv)-2))\n",
    "print(paste0(\"RSE = \", RSE))\n",
    "\n",
    "#calculate the R square\n",
    "R2 <- 1-(RSS/TSS)\n",
    "print(paste0(\"R squared = \", R2))"
   ]
  },
  {
   "cell_type": "markdown",
   "metadata": {},
   "source": [
    "Calculate the RSE and R-squared for Sales ~ f(Newspaper)"
   ]
  },
  {
   "cell_type": "code",
   "execution_count": 161,
   "metadata": {},
   "outputs": [
    {
     "data": {
      "text/plain": [
       "\n",
       "Call:\n",
       "lm(formula = sales ~ newspaper, data = adv)\n",
       "\n",
       "Residuals:\n",
       "     Min       1Q   Median       3Q      Max \n",
       "-11.2272  -3.3873  -0.8392   3.5059  12.7751 \n",
       "\n",
       "Coefficients:\n",
       "            Estimate Std. Error t value Pr(>|t|)    \n",
       "(Intercept) 12.35141    0.62142   19.88  < 2e-16 ***\n",
       "newspaper    0.05469    0.01658    3.30  0.00115 ** \n",
       "---\n",
       "Signif. codes:  0 '***' 0.001 '**' 0.01 '*' 0.05 '.' 0.1 ' ' 1\n",
       "\n",
       "Residual standard error: 5.092 on 198 degrees of freedom\n",
       "Multiple R-squared:  0.05212,\tAdjusted R-squared:  0.04733 \n",
       "F-statistic: 10.89 on 1 and 198 DF,  p-value: 0.001148\n"
      ]
     },
     "metadata": {},
     "output_type": "display_data"
    }
   ],
   "source": [
    "# Show the model of Sales ~ f(Newspaper)\n",
    "md <- lm(sales ~ newspaper, data=adv)\n",
    "summary(md)"
   ]
  },
  {
   "cell_type": "code",
   "execution_count": 43,
   "metadata": {},
   "outputs": [
    {
     "name": "stdout",
     "output_type": "stream",
     "text": [
      "[1] \"RSE = 5.09248036652019\"\n",
      "[1] \"R squared = 0.0521204454443045\"\n"
     ]
    }
   ],
   "source": [
    "#calculate B0, B1\n",
    "mean_x <- mean(adv$newspaper)\n",
    "mean_y <- mean(adv$sales)\n",
    "\n",
    "a <- 0\n",
    "b <- 0\n",
    "for (i in 1:dim(adv)[1]) {\n",
    "    a <- a + (adv[i, \"newspaper\"]-mean_x)*(adv[i, \"sales\"]-mean_y)\n",
    "    b <- b + (adv[i, \"newspaper\"]-mean_x)^2\n",
    "}\n",
    "B1 <- a/b\n",
    "B0 <- mean_y-B1*mean_x\n",
    "\n",
    "#calculate RSS\n",
    "RSS <- 0\n",
    "TSS <- 0\n",
    "for (i in 1:dim(adv)[1]) {\n",
    "    RSS <- RSS + (adv[i, \"sales\"]-B0-B1*adv[i, \"newspaper\"])^2\n",
    "    TSS <- TSS + (adv[i, \"sales\"]-mean_y)^2\n",
    "}\n",
    "\n",
    "#calculate RSE\n",
    "RSE <- sqrt(RSS/(nrow(adv)-2))\n",
    "print(paste0(\"RSE = \", RSE))\n",
    "\n",
    "#calculate the R square\n",
    "R2 <- 1-(RSS/TSS)\n",
    "print(paste0(\"R squared = \", R2))"
   ]
  },
  {
   "cell_type": "markdown",
   "metadata": {},
   "source": [
    "**4. Multiple Linear Regression**"
   ]
  },
  {
   "cell_type": "code",
   "execution_count": 163,
   "metadata": {},
   "outputs": [
    {
     "data": {
      "text/html": [
       "<table>\n",
       "<thead><tr><th scope=col>TV</th><th scope=col>radio</th><th scope=col>newspaper</th><th scope=col>sales</th></tr></thead>\n",
       "<tbody>\n",
       "\t<tr><td>230.1</td><td>37.8 </td><td>69.2 </td><td>22.1 </td></tr>\n",
       "\t<tr><td> 44.5</td><td>39.3 </td><td>45.1 </td><td>10.4 </td></tr>\n",
       "\t<tr><td> 17.2</td><td>45.9 </td><td>69.3 </td><td> 9.3 </td></tr>\n",
       "\t<tr><td>151.5</td><td>41.3 </td><td>58.5 </td><td>18.5 </td></tr>\n",
       "\t<tr><td>180.8</td><td>10.8 </td><td>58.4 </td><td>12.9 </td></tr>\n",
       "\t<tr><td>  8.7</td><td>48.9 </td><td>75.0 </td><td> 7.2 </td></tr>\n",
       "</tbody>\n",
       "</table>\n"
      ],
      "text/latex": [
       "\\begin{tabular}{r|llll}\n",
       " TV & radio & newspaper & sales\\\\\n",
       "\\hline\n",
       "\t 230.1 & 37.8  & 69.2  & 22.1 \\\\\n",
       "\t  44.5 & 39.3  & 45.1  & 10.4 \\\\\n",
       "\t  17.2 & 45.9  & 69.3  &  9.3 \\\\\n",
       "\t 151.5 & 41.3  & 58.5  & 18.5 \\\\\n",
       "\t 180.8 & 10.8  & 58.4  & 12.9 \\\\\n",
       "\t   8.7 & 48.9  & 75.0  &  7.2 \\\\\n",
       "\\end{tabular}\n"
      ],
      "text/markdown": [
       "\n",
       "| TV | radio | newspaper | sales |\n",
       "|---|---|---|---|\n",
       "| 230.1 | 37.8  | 69.2  | 22.1  |\n",
       "|  44.5 | 39.3  | 45.1  | 10.4  |\n",
       "|  17.2 | 45.9  | 69.3  |  9.3  |\n",
       "| 151.5 | 41.3  | 58.5  | 18.5  |\n",
       "| 180.8 | 10.8  | 58.4  | 12.9  |\n",
       "|   8.7 | 48.9  | 75.0  |  7.2  |\n",
       "\n"
      ],
      "text/plain": [
       "  TV    radio newspaper sales\n",
       "1 230.1 37.8  69.2      22.1 \n",
       "2  44.5 39.3  45.1      10.4 \n",
       "3  17.2 45.9  69.3       9.3 \n",
       "4 151.5 41.3  58.5      18.5 \n",
       "5 180.8 10.8  58.4      12.9 \n",
       "6   8.7 48.9  75.0       7.2 "
      ]
     },
     "metadata": {},
     "output_type": "display_data"
    },
    {
     "name": "stdout",
     "output_type": "stream",
     "text": [
      "'data.frame':\t200 obs. of  4 variables:\n",
      " $ TV       : num  230.1 44.5 17.2 151.5 180.8 ...\n",
      " $ radio    : num  37.8 39.3 45.9 41.3 10.8 48.9 32.8 19.6 2.1 2.6 ...\n",
      " $ newspaper: num  69.2 45.1 69.3 58.5 58.4 75 23.5 11.6 1 21.2 ...\n",
      " $ sales    : num  22.1 10.4 9.3 18.5 12.9 7.2 11.8 13.2 4.8 10.6 ...\n"
     ]
    }
   ],
   "source": [
    "# Import Advertising data\n",
    "adv <- read.csv('./data/Advertising.csv', row.names=1)\n",
    "head(adv)\n",
    "str(adv)"
   ]
  },
  {
   "cell_type": "markdown",
   "metadata": {},
   "source": [
    "**Exercise 6:** Use the matrix formula to estimate the parameters of multilinear regression model."
   ]
  },
  {
   "cell_type": "code",
   "execution_count": 10,
   "metadata": {},
   "outputs": [
    {
     "data": {
      "text/html": [
       "<table>\n",
       "<thead><tr><th></th><th scope=col>sales</th></tr></thead>\n",
       "<tbody>\n",
       "\t<tr><th scope=row>TV</th><td>0.2882298</td></tr>\n",
       "\t<tr><th scope=row>radio</th><td>1.7287568</td></tr>\n",
       "\t<tr><th scope=row>newspaper</th><td>1.2968428</td></tr>\n",
       "</tbody>\n",
       "</table>\n"
      ],
      "text/latex": [
       "\\begin{tabular}{r|l}\n",
       "  & sales\\\\\n",
       "\\hline\n",
       "\tTV & 0.2882298\\\\\n",
       "\tradio & 1.7287568\\\\\n",
       "\tnewspaper & 1.2968428\\\\\n",
       "\\end{tabular}\n"
      ],
      "text/markdown": [
       "\n",
       "| <!--/--> | sales |\n",
       "|---|---|\n",
       "| TV | 0.2882298 |\n",
       "| radio | 1.7287568 |\n",
       "| newspaper | 1.2968428 |\n",
       "\n"
      ],
      "text/plain": [
       "          sales    \n",
       "TV        0.2882298\n",
       "radio     1.7287568\n",
       "newspaper 1.2968428"
      ]
     },
     "metadata": {},
     "output_type": "display_data"
    }
   ],
   "source": [
    "# create matrix\n",
    "library(dplyr)\n",
    "x <- adv %>%\n",
    "    select(TV, radio, newspaper)\n",
    "\n",
    "y <- adv %>% \n",
    "    select(sales)\n",
    "\n",
    "x <- as.matrix(x)\n",
    "y <- as.matrix(y)\n",
    "\n",
    "# calculate B\n",
    "\n",
    "b <- ((t(x)%*%x)^(-1))%*%t(x)%*%y\n",
    "b"
   ]
  },
  {
   "cell_type": "code",
   "execution_count": 110,
   "metadata": {},
   "outputs": [
    {
     "data": {
      "text/plain": [
       "\n",
       "Call:\n",
       "lm(formula = sales ~ ., data = adv)\n",
       "\n",
       "Residuals:\n",
       "    Min      1Q  Median      3Q     Max \n",
       "-8.8277 -0.8908  0.2418  1.1893  2.8292 \n",
       "\n",
       "Coefficients:\n",
       "             Estimate Std. Error t value Pr(>|t|)    \n",
       "(Intercept)  2.938889   0.311908   9.422   <2e-16 ***\n",
       "TV           0.045765   0.001395  32.809   <2e-16 ***\n",
       "radio        0.188530   0.008611  21.893   <2e-16 ***\n",
       "newspaper   -0.001037   0.005871  -0.177     0.86    \n",
       "---\n",
       "Signif. codes:  0 '***' 0.001 '**' 0.01 '*' 0.05 '.' 0.1 ' ' 1\n",
       "\n",
       "Residual standard error: 1.686 on 196 degrees of freedom\n",
       "Multiple R-squared:  0.8972,\tAdjusted R-squared:  0.8956 \n",
       "F-statistic: 570.3 on 3 and 196 DF,  p-value: < 2.2e-16\n"
      ]
     },
     "metadata": {},
     "output_type": "display_data"
    }
   ],
   "source": [
    "# Compare with the function of R\n",
    "md <- lm(sales ~ ., data=adv)\n",
    "summary(md)"
   ]
  },
  {
   "cell_type": "markdown",
   "metadata": {},
   "source": [
    "## Exercise 2"
   ]
  },
  {
   "cell_type": "markdown",
   "metadata": {},
   "source": [
    "**Chapter 2** : Excercise 2"
   ]
  },
  {
   "cell_type": "markdown",
   "metadata": {},
   "source": [
    "**a)** regression; inference; n=500, p=4  \n",
    "**b)** classification; prediction; n=20, p=14  \n",
    "**c)** regression; prediction; n=53, p=4  "
   ]
  },
  {
   "cell_type": "markdown",
   "metadata": {},
   "source": [
    "**Chapter 2** : Excercise 10"
   ]
  },
  {
   "cell_type": "code",
   "execution_count": 15,
   "metadata": {},
   "outputs": [
    {
     "data": {
      "text/html": [
       "<table>\n",
       "<thead><tr><th scope=col>crim</th><th scope=col>zn</th><th scope=col>indus</th><th scope=col>chas</th><th scope=col>nox</th><th scope=col>rm</th><th scope=col>age</th><th scope=col>dis</th><th scope=col>rad</th><th scope=col>tax</th><th scope=col>ptratio</th><th scope=col>black</th><th scope=col>lstat</th><th scope=col>medv</th></tr></thead>\n",
       "<tbody>\n",
       "\t<tr><td>0.00632</td><td>18     </td><td>2.31   </td><td>0      </td><td>0.538  </td><td>6.575  </td><td>65.2   </td><td>4.0900 </td><td>1      </td><td>296    </td><td>15.3   </td><td>396.90 </td><td>4.98   </td><td>24.0   </td></tr>\n",
       "\t<tr><td>0.02731</td><td> 0     </td><td>7.07   </td><td>0      </td><td>0.469  </td><td>6.421  </td><td>78.9   </td><td>4.9671 </td><td>2      </td><td>242    </td><td>17.8   </td><td>396.90 </td><td>9.14   </td><td>21.6   </td></tr>\n",
       "\t<tr><td>0.02729</td><td> 0     </td><td>7.07   </td><td>0      </td><td>0.469  </td><td>7.185  </td><td>61.1   </td><td>4.9671 </td><td>2      </td><td>242    </td><td>17.8   </td><td>392.83 </td><td>4.03   </td><td>34.7   </td></tr>\n",
       "\t<tr><td>0.03237</td><td> 0     </td><td>2.18   </td><td>0      </td><td>0.458  </td><td>6.998  </td><td>45.8   </td><td>6.0622 </td><td>3      </td><td>222    </td><td>18.7   </td><td>394.63 </td><td>2.94   </td><td>33.4   </td></tr>\n",
       "\t<tr><td>0.06905</td><td> 0     </td><td>2.18   </td><td>0      </td><td>0.458  </td><td>7.147  </td><td>54.2   </td><td>6.0622 </td><td>3      </td><td>222    </td><td>18.7   </td><td>396.90 </td><td>5.33   </td><td>36.2   </td></tr>\n",
       "\t<tr><td>0.02985</td><td> 0     </td><td>2.18   </td><td>0      </td><td>0.458  </td><td>6.430  </td><td>58.7   </td><td>6.0622 </td><td>3      </td><td>222    </td><td>18.7   </td><td>394.12 </td><td>5.21   </td><td>28.7   </td></tr>\n",
       "</tbody>\n",
       "</table>\n"
      ],
      "text/latex": [
       "\\begin{tabular}{r|llllllllllllll}\n",
       " crim & zn & indus & chas & nox & rm & age & dis & rad & tax & ptratio & black & lstat & medv\\\\\n",
       "\\hline\n",
       "\t 0.00632 & 18      & 2.31    & 0       & 0.538   & 6.575   & 65.2    & 4.0900  & 1       & 296     & 15.3    & 396.90  & 4.98    & 24.0   \\\\\n",
       "\t 0.02731 &  0      & 7.07    & 0       & 0.469   & 6.421   & 78.9    & 4.9671  & 2       & 242     & 17.8    & 396.90  & 9.14    & 21.6   \\\\\n",
       "\t 0.02729 &  0      & 7.07    & 0       & 0.469   & 7.185   & 61.1    & 4.9671  & 2       & 242     & 17.8    & 392.83  & 4.03    & 34.7   \\\\\n",
       "\t 0.03237 &  0      & 2.18    & 0       & 0.458   & 6.998   & 45.8    & 6.0622  & 3       & 222     & 18.7    & 394.63  & 2.94    & 33.4   \\\\\n",
       "\t 0.06905 &  0      & 2.18    & 0       & 0.458   & 7.147   & 54.2    & 6.0622  & 3       & 222     & 18.7    & 396.90  & 5.33    & 36.2   \\\\\n",
       "\t 0.02985 &  0      & 2.18    & 0       & 0.458   & 6.430   & 58.7    & 6.0622  & 3       & 222     & 18.7    & 394.12  & 5.21    & 28.7   \\\\\n",
       "\\end{tabular}\n"
      ],
      "text/markdown": [
       "\n",
       "| crim | zn | indus | chas | nox | rm | age | dis | rad | tax | ptratio | black | lstat | medv |\n",
       "|---|---|---|---|---|---|---|---|---|---|---|---|---|---|\n",
       "| 0.00632 | 18      | 2.31    | 0       | 0.538   | 6.575   | 65.2    | 4.0900  | 1       | 296     | 15.3    | 396.90  | 4.98    | 24.0    |\n",
       "| 0.02731 |  0      | 7.07    | 0       | 0.469   | 6.421   | 78.9    | 4.9671  | 2       | 242     | 17.8    | 396.90  | 9.14    | 21.6    |\n",
       "| 0.02729 |  0      | 7.07    | 0       | 0.469   | 7.185   | 61.1    | 4.9671  | 2       | 242     | 17.8    | 392.83  | 4.03    | 34.7    |\n",
       "| 0.03237 |  0      | 2.18    | 0       | 0.458   | 6.998   | 45.8    | 6.0622  | 3       | 222     | 18.7    | 394.63  | 2.94    | 33.4    |\n",
       "| 0.06905 |  0      | 2.18    | 0       | 0.458   | 7.147   | 54.2    | 6.0622  | 3       | 222     | 18.7    | 396.90  | 5.33    | 36.2    |\n",
       "| 0.02985 |  0      | 2.18    | 0       | 0.458   | 6.430   | 58.7    | 6.0622  | 3       | 222     | 18.7    | 394.12  | 5.21    | 28.7    |\n",
       "\n"
      ],
      "text/plain": [
       "  crim    zn indus chas nox   rm    age  dis    rad tax ptratio black  lstat\n",
       "1 0.00632 18 2.31  0    0.538 6.575 65.2 4.0900 1   296 15.3    396.90 4.98 \n",
       "2 0.02731  0 7.07  0    0.469 6.421 78.9 4.9671 2   242 17.8    396.90 9.14 \n",
       "3 0.02729  0 7.07  0    0.469 7.185 61.1 4.9671 2   242 17.8    392.83 4.03 \n",
       "4 0.03237  0 2.18  0    0.458 6.998 45.8 6.0622 3   222 18.7    394.63 2.94 \n",
       "5 0.06905  0 2.18  0    0.458 7.147 54.2 6.0622 3   222 18.7    396.90 5.33 \n",
       "6 0.02985  0 2.18  0    0.458 6.430 58.7 6.0622 3   222 18.7    394.12 5.21 \n",
       "  medv\n",
       "1 24.0\n",
       "2 21.6\n",
       "3 34.7\n",
       "4 33.4\n",
       "5 36.2\n",
       "6 28.7"
      ]
     },
     "metadata": {},
     "output_type": "display_data"
    }
   ],
   "source": [
    "library(MASS)\n",
    "head(Boston)"
   ]
  },
  {
   "cell_type": "code",
   "execution_count": 13,
   "metadata": {},
   "outputs": [
    {
     "data": {
      "text/html": [
       "<ol class=list-inline>\n",
       "\t<li>506</li>\n",
       "\t<li>14</li>\n",
       "</ol>\n"
      ],
      "text/latex": [
       "\\begin{enumerate*}\n",
       "\\item 506\n",
       "\\item 14\n",
       "\\end{enumerate*}\n"
      ],
      "text/markdown": [
       "1. 506\n",
       "2. 14\n",
       "\n",
       "\n"
      ],
      "text/plain": [
       "[1] 506  14"
      ]
     },
     "metadata": {},
     "output_type": "display_data"
    }
   ],
   "source": [
    "dim(Boston)"
   ]
  },
  {
   "cell_type": "code",
   "execution_count": 14,
   "metadata": {},
   "outputs": [
    {
     "data": {
      "text/html": [
       "<ol class=list-inline>\n",
       "\t<li>'crim'</li>\n",
       "\t<li>'zn'</li>\n",
       "\t<li>'indus'</li>\n",
       "\t<li>'chas'</li>\n",
       "\t<li>'nox'</li>\n",
       "\t<li>'rm'</li>\n",
       "\t<li>'age'</li>\n",
       "\t<li>'dis'</li>\n",
       "\t<li>'rad'</li>\n",
       "\t<li>'tax'</li>\n",
       "\t<li>'ptratio'</li>\n",
       "\t<li>'black'</li>\n",
       "\t<li>'lstat'</li>\n",
       "\t<li>'medv'</li>\n",
       "</ol>\n"
      ],
      "text/latex": [
       "\\begin{enumerate*}\n",
       "\\item 'crim'\n",
       "\\item 'zn'\n",
       "\\item 'indus'\n",
       "\\item 'chas'\n",
       "\\item 'nox'\n",
       "\\item 'rm'\n",
       "\\item 'age'\n",
       "\\item 'dis'\n",
       "\\item 'rad'\n",
       "\\item 'tax'\n",
       "\\item 'ptratio'\n",
       "\\item 'black'\n",
       "\\item 'lstat'\n",
       "\\item 'medv'\n",
       "\\end{enumerate*}\n"
      ],
      "text/markdown": [
       "1. 'crim'\n",
       "2. 'zn'\n",
       "3. 'indus'\n",
       "4. 'chas'\n",
       "5. 'nox'\n",
       "6. 'rm'\n",
       "7. 'age'\n",
       "8. 'dis'\n",
       "9. 'rad'\n",
       "10. 'tax'\n",
       "11. 'ptratio'\n",
       "12. 'black'\n",
       "13. 'lstat'\n",
       "14. 'medv'\n",
       "\n",
       "\n"
      ],
      "text/plain": [
       " [1] \"crim\"    \"zn\"      \"indus\"   \"chas\"    \"nox\"     \"rm\"      \"age\"    \n",
       " [8] \"dis\"     \"rad\"     \"tax\"     \"ptratio\" \"black\"   \"lstat\"   \"medv\"   "
      ]
     },
     "metadata": {},
     "output_type": "display_data"
    }
   ],
   "source": [
    "colnames(Boston)"
   ]
  },
  {
   "cell_type": "code",
   "execution_count": 17,
   "metadata": {},
   "outputs": [
    {
     "data": {
      "image/png": "[encoded data removed]",
      "text/plain": [
       "plot without title"
      ]
     },
     "metadata": {},
     "output_type": "display_data"
    }
   ],
   "source": [
    "pairs(Boston)"
   ]
  },
  {
   "cell_type": "code",
   "execution_count": null,
   "metadata": {},
   "outputs": [],
   "source": []
  },
  {
   "cell_type": "markdown",
   "metadata": {},
   "source": [
    "**Chapter 3** : Excercise 3"
   ]
  },
  {
   "cell_type": "markdown",
   "metadata": {},
   "source": [
    "**a**  \n",
    "i) False.  \n",
    "ii) True.  \n",
    "iii) False.  \n",
    "iv) True.  \n",
    "**c**  \n",
    "False."
   ]
  },
  {
   "cell_type": "code",
   "execution_count": 18,
   "metadata": {},
   "outputs": [
    {
     "data": {
      "text/html": [
       "172.7"
      ],
      "text/latex": [
       "172.7"
      ],
      "text/markdown": [
       "172.7"
      ],
      "text/plain": [
       "[1] 172.7"
      ]
     },
     "metadata": {},
     "output_type": "display_data"
    }
   ],
   "source": [
    "y <- 50 + 4*20 + 0.07*110 + 35*1\n",
    "y"
   ]
  },
  {
   "cell_type": "markdown",
   "metadata": {},
   "source": [
    "**Chapter 3** : Excercise 10"
   ]
  },
  {
   "cell_type": "code",
   "execution_count": 19,
   "metadata": {},
   "outputs": [
    {
     "data": {
      "text/html": [
       "<table>\n",
       "<thead><tr><th scope=col>Sales</th><th scope=col>CompPrice</th><th scope=col>Income</th><th scope=col>Advertising</th><th scope=col>Population</th><th scope=col>Price</th><th scope=col>ShelveLoc</th><th scope=col>Age</th><th scope=col>Education</th><th scope=col>Urban</th><th scope=col>US</th></tr></thead>\n",
       "<tbody>\n",
       "\t<tr><td> 9.50 </td><td>138   </td><td> 73   </td><td>11    </td><td>276   </td><td>120   </td><td>Bad   </td><td>42    </td><td>17    </td><td>Yes   </td><td>Yes   </td></tr>\n",
       "\t<tr><td>11.22 </td><td>111   </td><td> 48   </td><td>16    </td><td>260   </td><td> 83   </td><td>Good  </td><td>65    </td><td>10    </td><td>Yes   </td><td>Yes   </td></tr>\n",
       "\t<tr><td>10.06 </td><td>113   </td><td> 35   </td><td>10    </td><td>269   </td><td> 80   </td><td>Medium</td><td>59    </td><td>12    </td><td>Yes   </td><td>Yes   </td></tr>\n",
       "\t<tr><td> 7.40 </td><td>117   </td><td>100   </td><td> 4    </td><td>466   </td><td> 97   </td><td>Medium</td><td>55    </td><td>14    </td><td>Yes   </td><td>Yes   </td></tr>\n",
       "\t<tr><td> 4.15 </td><td>141   </td><td> 64   </td><td> 3    </td><td>340   </td><td>128   </td><td>Bad   </td><td>38    </td><td>13    </td><td>Yes   </td><td>No    </td></tr>\n",
       "\t<tr><td>10.81 </td><td>124   </td><td>113   </td><td>13    </td><td>501   </td><td> 72   </td><td>Bad   </td><td>78    </td><td>16    </td><td>No    </td><td>Yes   </td></tr>\n",
       "</tbody>\n",
       "</table>\n"
      ],
      "text/latex": [
       "\\begin{tabular}{r|lllllllllll}\n",
       " Sales & CompPrice & Income & Advertising & Population & Price & ShelveLoc & Age & Education & Urban & US\\\\\n",
       "\\hline\n",
       "\t  9.50  & 138    &  73    & 11     & 276    & 120    & Bad    & 42     & 17     & Yes    & Yes   \\\\\n",
       "\t 11.22  & 111    &  48    & 16     & 260    &  83    & Good   & 65     & 10     & Yes    & Yes   \\\\\n",
       "\t 10.06  & 113    &  35    & 10     & 269    &  80    & Medium & 59     & 12     & Yes    & Yes   \\\\\n",
       "\t  7.40  & 117    & 100    &  4     & 466    &  97    & Medium & 55     & 14     & Yes    & Yes   \\\\\n",
       "\t  4.15  & 141    &  64    &  3     & 340    & 128    & Bad    & 38     & 13     & Yes    & No    \\\\\n",
       "\t 10.81  & 124    & 113    & 13     & 501    &  72    & Bad    & 78     & 16     & No     & Yes   \\\\\n",
       "\\end{tabular}\n"
      ],
      "text/markdown": [
       "\n",
       "| Sales | CompPrice | Income | Advertising | Population | Price | ShelveLoc | Age | Education | Urban | US |\n",
       "|---|---|---|---|---|---|---|---|---|---|---|\n",
       "|  9.50  | 138    |  73    | 11     | 276    | 120    | Bad    | 42     | 17     | Yes    | Yes    |\n",
       "| 11.22  | 111    |  48    | 16     | 260    |  83    | Good   | 65     | 10     | Yes    | Yes    |\n",
       "| 10.06  | 113    |  35    | 10     | 269    |  80    | Medium | 59     | 12     | Yes    | Yes    |\n",
       "|  7.40  | 117    | 100    |  4     | 466    |  97    | Medium | 55     | 14     | Yes    | Yes    |\n",
       "|  4.15  | 141    |  64    |  3     | 340    | 128    | Bad    | 38     | 13     | Yes    | No     |\n",
       "| 10.81  | 124    | 113    | 13     | 501    |  72    | Bad    | 78     | 16     | No     | Yes    |\n",
       "\n"
      ],
      "text/plain": [
       "  Sales CompPrice Income Advertising Population Price ShelveLoc Age Education\n",
       "1  9.50 138        73    11          276        120   Bad       42  17       \n",
       "2 11.22 111        48    16          260         83   Good      65  10       \n",
       "3 10.06 113        35    10          269         80   Medium    59  12       \n",
       "4  7.40 117       100     4          466         97   Medium    55  14       \n",
       "5  4.15 141        64     3          340        128   Bad       38  13       \n",
       "6 10.81 124       113    13          501         72   Bad       78  16       \n",
       "  Urban US \n",
       "1 Yes   Yes\n",
       "2 Yes   Yes\n",
       "3 Yes   Yes\n",
       "4 Yes   Yes\n",
       "5 Yes   No \n",
       "6 No    Yes"
      ]
     },
     "metadata": {},
     "output_type": "display_data"
    }
   ],
   "source": [
    "library(ISLR)\n",
    "head(Carseats)"
   ]
  },
  {
   "cell_type": "code",
   "execution_count": 22,
   "metadata": {},
   "outputs": [
    {
     "data": {
      "text/plain": [
       "\n",
       "Call:\n",
       "lm(formula = Sales ~ Price + Urban + US, data = Carseats)\n",
       "\n",
       "Residuals:\n",
       "    Min      1Q  Median      3Q     Max \n",
       "-6.9206 -1.6220 -0.0564  1.5786  7.0581 \n",
       "\n",
       "Coefficients:\n",
       "             Estimate Std. Error t value Pr(>|t|)    \n",
       "(Intercept) 13.043469   0.651012  20.036  < 2e-16 ***\n",
       "Price       -0.054459   0.005242 -10.389  < 2e-16 ***\n",
       "UrbanYes    -0.021916   0.271650  -0.081    0.936    \n",
       "USYes        1.200573   0.259042   4.635 4.86e-06 ***\n",
       "---\n",
       "Signif. codes:  0 '***' 0.001 '**' 0.01 '*' 0.05 '.' 0.1 ' ' 1\n",
       "\n",
       "Residual standard error: 2.472 on 396 degrees of freedom\n",
       "Multiple R-squared:  0.2393,\tAdjusted R-squared:  0.2335 \n",
       "F-statistic: 41.52 on 3 and 396 DF,  p-value: < 2.2e-16\n"
      ]
     },
     "metadata": {},
     "output_type": "display_data"
    }
   ],
   "source": [
    "lm.fit=lm(Sales ~ Price + Urban + US, data=Carseats)\n",
    "summary(lm.fit)"
   ]
  },
  {
   "cell_type": "markdown",
   "metadata": {},
   "source": [
    "**Chapter 3** : Excercise 15"
   ]
  },
  {
   "cell_type": "code",
   "execution_count": 24,
   "metadata": {},
   "outputs": [
    {
     "data": {
      "text/html": [
       "<ol class=list-inline>\n",
       "\t<li>'crim'</li>\n",
       "\t<li>'zn'</li>\n",
       "\t<li>'indus'</li>\n",
       "\t<li>'chas'</li>\n",
       "\t<li>'nox'</li>\n",
       "\t<li>'rm'</li>\n",
       "\t<li>'age'</li>\n",
       "\t<li>'dis'</li>\n",
       "\t<li>'rad'</li>\n",
       "\t<li>'tax'</li>\n",
       "\t<li>'ptratio'</li>\n",
       "\t<li>'black'</li>\n",
       "\t<li>'lstat'</li>\n",
       "\t<li>'medv'</li>\n",
       "</ol>\n"
      ],
      "text/latex": [
       "\\begin{enumerate*}\n",
       "\\item 'crim'\n",
       "\\item 'zn'\n",
       "\\item 'indus'\n",
       "\\item 'chas'\n",
       "\\item 'nox'\n",
       "\\item 'rm'\n",
       "\\item 'age'\n",
       "\\item 'dis'\n",
       "\\item 'rad'\n",
       "\\item 'tax'\n",
       "\\item 'ptratio'\n",
       "\\item 'black'\n",
       "\\item 'lstat'\n",
       "\\item 'medv'\n",
       "\\end{enumerate*}\n"
      ],
      "text/markdown": [
       "1. 'crim'\n",
       "2. 'zn'\n",
       "3. 'indus'\n",
       "4. 'chas'\n",
       "5. 'nox'\n",
       "6. 'rm'\n",
       "7. 'age'\n",
       "8. 'dis'\n",
       "9. 'rad'\n",
       "10. 'tax'\n",
       "11. 'ptratio'\n",
       "12. 'black'\n",
       "13. 'lstat'\n",
       "14. 'medv'\n",
       "\n",
       "\n"
      ],
      "text/plain": [
       " [1] \"crim\"    \"zn\"      \"indus\"   \"chas\"    \"nox\"     \"rm\"      \"age\"    \n",
       " [8] \"dis\"     \"rad\"     \"tax\"     \"ptratio\" \"black\"   \"lstat\"   \"medv\"   "
      ]
     },
     "metadata": {},
     "output_type": "display_data"
    }
   ],
   "source": [
    "fix(Boston)\n",
    "names(Boston)"
   ]
  },
  {
   "cell_type": "code",
   "execution_count": 27,
   "metadata": {},
   "outputs": [
    {
     "data": {
      "text/plain": [
       "\n",
       "Call:\n",
       "lm(formula = medv ~ crim, data = Boston)\n",
       "\n",
       "Residuals:\n",
       "    Min      1Q  Median      3Q     Max \n",
       "-16.957  -5.449  -2.007   2.512  29.800 \n",
       "\n",
       "Coefficients:\n",
       "            Estimate Std. Error t value Pr(>|t|)    \n",
       "(Intercept) 24.03311    0.40914   58.74   <2e-16 ***\n",
       "crim        -0.41519    0.04389   -9.46   <2e-16 ***\n",
       "---\n",
       "Signif. codes:  0 '***' 0.001 '**' 0.01 '*' 0.05 '.' 0.1 ' ' 1\n",
       "\n",
       "Residual standard error: 8.484 on 504 degrees of freedom\n",
       "Multiple R-squared:  0.1508,\tAdjusted R-squared:  0.1491 \n",
       "F-statistic: 89.49 on 1 and 504 DF,  p-value: < 2.2e-16\n"
      ]
     },
     "metadata": {},
     "output_type": "display_data"
    }
   ],
   "source": [
    "lm_1.fit=lm(medv ~ crim, data=Boston)\n",
    "summary(lm_1.fit)"
   ]
  },
  {
   "cell_type": "code",
   "execution_count": 28,
   "metadata": {},
   "outputs": [
    {
     "data": {
      "text/plain": [
       "\n",
       "Call:\n",
       "lm(formula = medv ~ zn, data = Boston)\n",
       "\n",
       "Residuals:\n",
       "    Min      1Q  Median      3Q     Max \n",
       "-15.918  -5.518  -1.006   2.757  29.082 \n",
       "\n",
       "Coefficients:\n",
       "            Estimate Std. Error t value Pr(>|t|)    \n",
       "(Intercept) 20.91758    0.42474  49.248   <2e-16 ***\n",
       "zn           0.14214    0.01638   8.675   <2e-16 ***\n",
       "---\n",
       "Signif. codes:  0 '***' 0.001 '**' 0.01 '*' 0.05 '.' 0.1 ' ' 1\n",
       "\n",
       "Residual standard error: 8.587 on 504 degrees of freedom\n",
       "Multiple R-squared:  0.1299,\tAdjusted R-squared:  0.1282 \n",
       "F-statistic: 75.26 on 1 and 504 DF,  p-value: < 2.2e-16\n"
      ]
     },
     "metadata": {},
     "output_type": "display_data"
    }
   ],
   "source": [
    "lm_2.fit=lm(medv ~ zn, data=Boston)\n",
    "summary(lm_2.fit)"
   ]
  },
  {
   "cell_type": "code",
   "execution_count": 37,
   "metadata": {},
   "outputs": [
    {
     "data": {
      "text/plain": [
       "\n",
       "Call:\n",
       "lm(formula = medv ~ rm, data = Boston)\n",
       "\n",
       "Residuals:\n",
       "    Min      1Q  Median      3Q     Max \n",
       "-23.346  -2.547   0.090   2.986  39.433 \n",
       "\n",
       "Coefficients:\n",
       "            Estimate Std. Error t value Pr(>|t|)    \n",
       "(Intercept)  -34.671      2.650  -13.08   <2e-16 ***\n",
       "rm             9.102      0.419   21.72   <2e-16 ***\n",
       "---\n",
       "Signif. codes:  0 '***' 0.001 '**' 0.01 '*' 0.05 '.' 0.1 ' ' 1\n",
       "\n",
       "Residual standard error: 6.616 on 504 degrees of freedom\n",
       "Multiple R-squared:  0.4835,\tAdjusted R-squared:  0.4825 \n",
       "F-statistic: 471.8 on 1 and 504 DF,  p-value: < 2.2e-16\n"
      ]
     },
     "metadata": {},
     "output_type": "display_data"
    },
    {
     "data": {
      "text/html": [
       "<table>\n",
       "<thead><tr><th></th><th scope=col>2.5 %</th><th scope=col>97.5 %</th></tr></thead>\n",
       "<tbody>\n",
       "\t<tr><th scope=row>(Intercept)</th><td>-39.876641</td><td>-29.464601</td></tr>\n",
       "\t<tr><th scope=row>rm</th><td>  8.278855</td><td>  9.925363</td></tr>\n",
       "</tbody>\n",
       "</table>\n"
      ],
      "text/latex": [
       "\\begin{tabular}{r|ll}\n",
       "  & 2.5 \\% & 97.5 \\%\\\\\n",
       "\\hline\n",
       "\t(Intercept) & -39.876641 & -29.464601\\\\\n",
       "\trm &   8.278855 &   9.925363\\\\\n",
       "\\end{tabular}\n"
      ],
      "text/markdown": [
       "\n",
       "| <!--/--> | 2.5 % | 97.5 % |\n",
       "|---|---|---|\n",
       "| (Intercept) | -39.876641 | -29.464601 |\n",
       "| rm |   8.278855 |   9.925363 |\n",
       "\n"
      ],
      "text/plain": [
       "            2.5 %      97.5 %    \n",
       "(Intercept) -39.876641 -29.464601\n",
       "rm            8.278855   9.925363"
      ]
     },
     "metadata": {},
     "output_type": "display_data"
    }
   ],
   "source": [
    "lm_3.fit=lm(medv ~ rm, data=Boston)\n",
    "summary(lm_3.fit)\n",
    "confint(lm_3.fit)"
   ]
  },
  {
   "cell_type": "code",
   "execution_count": 41,
   "metadata": {},
   "outputs": [
    {
     "ename": "ERROR",
     "evalue": "Error in plot.function(rm, medv): object 'medv' not found\n",
     "output_type": "error",
     "traceback": [
      "Error in plot.function(rm, medv): object 'medv' not found\nTraceback:\n",
      "1. plot(rm, medv)",
      "2. plot.function(rm, medv)"
     ]
    }
   ],
   "source": [
    "plot(rm, medv)\n",
    "abline(lm_3.fit)"
   ]
  },
  {
   "cell_type": "code",
   "execution_count": 34,
   "metadata": {},
   "outputs": [
    {
     "data": {
      "text/plain": [
       "\n",
       "Call:\n",
       "lm(formula = medv ~ age, data = Boston)\n",
       "\n",
       "Residuals:\n",
       "    Min      1Q  Median      3Q     Max \n",
       "-15.097  -5.138  -1.958   2.397  31.338 \n",
       "\n",
       "Coefficients:\n",
       "            Estimate Std. Error t value Pr(>|t|)    \n",
       "(Intercept) 30.97868    0.99911  31.006   <2e-16 ***\n",
       "age         -0.12316    0.01348  -9.137   <2e-16 ***\n",
       "---\n",
       "Signif. codes:  0 '***' 0.001 '**' 0.01 '*' 0.05 '.' 0.1 ' ' 1\n",
       "\n",
       "Residual standard error: 8.527 on 504 degrees of freedom\n",
       "Multiple R-squared:  0.1421,\tAdjusted R-squared:  0.1404 \n",
       "F-statistic: 83.48 on 1 and 504 DF,  p-value: < 2.2e-16\n"
      ]
     },
     "metadata": {},
     "output_type": "display_data"
    },
    {
     "data": {
      "text/html": [
       "<table>\n",
       "<thead><tr><th></th><th scope=col>2.5 %</th><th scope=col>97.5 %</th></tr></thead>\n",
       "<tbody>\n",
       "\t<tr><th scope=row>(Intercept)</th><td>29.0157516 </td><td>32.94160395</td></tr>\n",
       "\t<tr><th scope=row>age</th><td>-0.1496469 </td><td>-0.09667852</td></tr>\n",
       "</tbody>\n",
       "</table>\n"
      ],
      "text/latex": [
       "\\begin{tabular}{r|ll}\n",
       "  & 2.5 \\% & 97.5 \\%\\\\\n",
       "\\hline\n",
       "\t(Intercept) & 29.0157516  & 32.94160395\\\\\n",
       "\tage & -0.1496469  & -0.09667852\\\\\n",
       "\\end{tabular}\n"
      ],
      "text/markdown": [
       "\n",
       "| <!--/--> | 2.5 % | 97.5 % |\n",
       "|---|---|---|\n",
       "| (Intercept) | 29.0157516  | 32.94160395 |\n",
       "| age | -0.1496469  | -0.09667852 |\n",
       "\n"
      ],
      "text/plain": [
       "            2.5 %      97.5 %     \n",
       "(Intercept) 29.0157516 32.94160395\n",
       "age         -0.1496469 -0.09667852"
      ]
     },
     "metadata": {},
     "output_type": "display_data"
    }
   ],
   "source": [
    "lm_4.fit=lm(medv ~ age, data=Boston)\n",
    "summary(lm_4.fit)\n",
    "confint(lm_4.fit)"
   ]
  },
  {
   "cell_type": "code",
   "execution_count": 33,
   "metadata": {},
   "outputs": [
    {
     "data": {
      "text/plain": [
       "\n",
       "Call:\n",
       "lm(formula = medv ~ lstat, data = Boston)\n",
       "\n",
       "Residuals:\n",
       "    Min      1Q  Median      3Q     Max \n",
       "-15.168  -3.990  -1.318   2.034  24.500 \n",
       "\n",
       "Coefficients:\n",
       "            Estimate Std. Error t value Pr(>|t|)    \n",
       "(Intercept) 34.55384    0.56263   61.41   <2e-16 ***\n",
       "lstat       -0.95005    0.03873  -24.53   <2e-16 ***\n",
       "---\n",
       "Signif. codes:  0 '***' 0.001 '**' 0.01 '*' 0.05 '.' 0.1 ' ' 1\n",
       "\n",
       "Residual standard error: 6.216 on 504 degrees of freedom\n",
       "Multiple R-squared:  0.5441,\tAdjusted R-squared:  0.5432 \n",
       "F-statistic: 601.6 on 1 and 504 DF,  p-value: < 2.2e-16\n"
      ]
     },
     "metadata": {},
     "output_type": "display_data"
    },
    {
     "data": {
      "text/html": [
       "<table>\n",
       "<thead><tr><th></th><th scope=col>2.5 %</th><th scope=col>97.5 %</th></tr></thead>\n",
       "<tbody>\n",
       "\t<tr><th scope=row>(Intercept)</th><td>33.448457 </td><td>35.6592247</td></tr>\n",
       "\t<tr><th scope=row>lstat</th><td>-1.026148 </td><td>-0.8739505</td></tr>\n",
       "</tbody>\n",
       "</table>\n"
      ],
      "text/latex": [
       "\\begin{tabular}{r|ll}\n",
       "  & 2.5 \\% & 97.5 \\%\\\\\n",
       "\\hline\n",
       "\t(Intercept) & 33.448457  & 35.6592247\\\\\n",
       "\tlstat & -1.026148  & -0.8739505\\\\\n",
       "\\end{tabular}\n"
      ],
      "text/markdown": [
       "\n",
       "| <!--/--> | 2.5 % | 97.5 % |\n",
       "|---|---|---|\n",
       "| (Intercept) | 33.448457  | 35.6592247 |\n",
       "| lstat | -1.026148  | -0.8739505 |\n",
       "\n"
      ],
      "text/plain": [
       "            2.5 %     97.5 %    \n",
       "(Intercept) 33.448457 35.6592247\n",
       "lstat       -1.026148 -0.8739505"
      ]
     },
     "metadata": {},
     "output_type": "display_data"
    }
   ],
   "source": [
    "lm_5.fit=lm(medv ~ lstat, data=Boston)\n",
    "summary(lm_5.fit)\n",
    "confint(lm_5.fit)"
   ]
  },
  {
   "cell_type": "code",
   "execution_count": 32,
   "metadata": {},
   "outputs": [
    {
     "data": {
      "image/png": "[encoded data removed]",
      "text/plain": [
       "plot without title"
      ]
     },
     "metadata": {},
     "output_type": "display_data"
    }
   ],
   "source": [
    "pairs(Boston)"
   ]
  },
  {
   "cell_type": "code",
   "execution_count": null,
   "metadata": {},
   "outputs": [],
   "source": []
  }
 ],
 "metadata": {
  "kernelspec": {
   "display_name": "R",
   "language": "R",
   "name": "ir"
  },
  "language_info": {
   "codemirror_mode": "r",
   "file_extension": ".r",
   "mimetype": "text/x-r-source",
   "name": "R",
   "pygments_lexer": "r",
   "version": "3.6.1"
  }
 },
 "nbformat": 4,
 "nbformat_minor": 2
}
