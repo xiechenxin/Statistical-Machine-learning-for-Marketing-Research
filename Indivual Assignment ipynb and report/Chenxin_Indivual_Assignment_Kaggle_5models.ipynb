{
 "cells": [
  {
   "cell_type": "markdown",
   "metadata": {},
   "source": [
    "# Individual project\n",
    "\n",
    "## Chenxin Xie"
   ]
  },
  {
   "cell_type": "markdown",
   "metadata": {},
   "source": [
    "## 1. Set up  libraries"
   ]
  },
  {
   "cell_type": "code",
   "execution_count": 47,
   "metadata": {},
   "outputs": [
    {
     "name": "stderr",
     "output_type": "stream",
     "text": [
      "Warning message:\n",
      "\"package 'kknn' was built under R version 3.6.3\"\n",
      "Attaching package: 'kknn'\n",
      "\n",
      "The following object is masked from 'package:caret':\n",
      "\n",
      "    contr.dummy\n",
      "\n"
     ]
    }
   ],
   "source": [
    "library(data.table)\n",
    "library(dummies)\n",
    "library(plyr)             \n",
    "library(stringr)          \n",
    "library(vita)             \n",
    "library(dataPreparation)  \n",
    "library(Boruta)          \n",
    "library(mlr)         \n",
    "library(caret)        \n",
    "library(mlbench)       \n",
    "library(randomForest) \n",
    "library(gbm)           \n",
    "library(xgboost)\n",
    "library(pls)\n",
    "library(e1071)\n",
    "library(gam)\n",
    "library(bst)\n",
    "library(mlrMBO)\n",
    "library(parallel)\n",
    "library(parallelMap)\n",
    "library(DiceKriging)\n",
    "library(rgenoud)\n",
    "library(class)\n",
    "library(kknn)"
   ]
  },
  {
   "cell_type": "code",
   "execution_count": 46,
   "metadata": {},
   "outputs": [
    {
     "name": "stderr",
     "output_type": "stream",
     "text": [
      "Installing package into 'C:/Users/cxie/Documents/R/win-library/3.6'\n",
      "(as 'lib' is unspecified)\n"
     ]
    },
    {
     "name": "stdout",
     "output_type": "stream",
     "text": [
      "package 'kknn' successfully unpacked and MD5 sums checked\n",
      "\n",
      "The downloaded binary packages are in\n",
      "\tC:\\Users\\cxie\\AppData\\Local\\Temp\\RtmpeivT82\\downloaded_packages\n"
     ]
    }
   ],
   "source": [
    "# install.packages(\"kknn\")"
   ]
  },
  {
   "cell_type": "markdown",
   "metadata": {},
   "source": [
    "## 2. Data Preparation"
   ]
  },
  {
   "cell_type": "markdown",
   "metadata": {},
   "source": [
    "### 2.1 Explore Data"
   ]
  },
  {
   "cell_type": "markdown",
   "metadata": {},
   "source": [
    "#### Read and print out some data"
   ]
  },
  {
   "cell_type": "code",
   "execution_count": 2,
   "metadata": {},
   "outputs": [],
   "source": [
    "train_full <- read.csv('C:/Users/cxie/Desktop/statistical/mbd2019-in-class-competition-bank-mkt/bank_mkt_train.csv') \n",
    "test <- read.csv('C:/Users/cxie/Desktop/statistical/mbd2019-in-class-competition-bank-mkt/bank_mkt_test.csv') "
   ]
  },
  {
   "cell_type": "code",
   "execution_count": 3,
   "metadata": {},
   "outputs": [
    {
     "name": "stdout",
     "output_type": "stream",
     "text": [
      "'data.frame':\t7000 obs. of  21 variables:\n",
      " $ client_id     : int  2 3 4 5 6 7 8 9 14 15 ...\n",
      " $ age           : int  29 39 49 32 29 51 34 52 52 29 ...\n",
      " $ job           : Factor w/ 12 levels \"admin.\",\"blue-collar\",..: 4 11 2 7 1 7 2 8 1 1 ...\n",
      " $ marital       : Factor w/ 4 levels \"divorced\",\"married\",..: 3 2 2 3 3 2 2 2 2 3 ...\n",
      " $ education     : Factor w/ 8 levels \"basic.4y\",\"basic.6y\",..: 4 3 2 7 4 7 1 4 7 7 ...\n",
      " $ default       : Factor w/ 2 levels \"no\",\"unknown\": 1 2 2 1 2 2 1 1 1 1 ...\n",
      " $ housing       : Factor w/ 3 levels \"no\",\"unknown\",..: 1 3 1 3 3 3 3 3 3 3 ...\n",
      " $ loan          : Factor w/ 3 levels \"no\",\"unknown\",..: 1 1 1 1 1 1 1 1 1 1 ...\n",
      " $ contact       : Factor w/ 2 levels \"cellular\",\"telephone\": 2 2 1 1 1 2 1 1 1 1 ...\n",
      " $ month         : Factor w/ 10 levels \"apr\",\"aug\",\"dec\",..: 7 5 8 7 4 5 8 8 8 5 ...\n",
      " $ day_of_week   : Factor w/ 5 levels \"fri\",\"mon\",\"thu\",..: 2 1 4 2 1 4 4 4 3 2 ...\n",
      " $ campaign      : int  3 6 2 3 2 1 1 1 3 1 ...\n",
      " $ pdays         : int  999 999 999 999 999 999 999 999 999 999 ...\n",
      " $ previous      : int  0 0 0 1 0 0 0 0 0 0 ...\n",
      " $ poutcome      : Factor w/ 3 levels \"failure\",\"nonexistent\",..: 2 2 2 1 2 2 2 2 2 2 ...\n",
      " $ emp.var.rate  : num  1.1 1.4 -0.1 -1.8 1.4 1.4 -0.1 -0.1 -0.1 -2.9 ...\n",
      " $ cons.price.idx: num  94 94.5 93.2 92.9 93.9 ...\n",
      " $ cons.conf.idx : num  -36.4 -41.8 -42 -46.2 -42.7 -41.8 -42 -42 -42 -40.8 ...\n",
      " $ euribor3m     : num  4.86 4.96 4.15 1.3 4.96 ...\n",
      " $ nr.employed   : num  5191 5228 5196 5099 5228 ...\n",
      " $ subscribe     : int  0 0 0 0 0 0 0 0 0 0 ...\n"
     ]
    }
   ],
   "source": [
    "# Print out to check the data type\n",
    "str(train_full)"
   ]
  },
  {
   "cell_type": "markdown",
   "metadata": {},
   "source": [
    "#### Check the target variable class distribution."
   ]
  },
  {
   "cell_type": "code",
   "execution_count": 4,
   "metadata": {},
   "outputs": [
    {
     "data": {
      "text/plain": [
       "\n",
       "   0    1 \n",
       "6178  822 "
      ]
     },
     "metadata": {},
     "output_type": "display_data"
    }
   ],
   "source": [
    "# By number\n",
    "table(train_full$subscribe)"
   ]
  },
  {
   "cell_type": "code",
   "execution_count": 5,
   "metadata": {},
   "outputs": [
    {
     "data": {
      "text/plain": [
       "\n",
       "        0         1 \n",
       "0.8825714 0.1174286 "
      ]
     },
     "metadata": {},
     "output_type": "display_data"
    }
   ],
   "source": [
    "# By percentage\n",
    "table(train_full$subscribe) / nrow(train_full)"
   ]
  },
  {
   "cell_type": "markdown",
   "metadata": {},
   "source": [
    "#### Check missing value"
   ]
  },
  {
   "cell_type": "code",
   "execution_count": 6,
   "metadata": {},
   "outputs": [
    {
     "data": {
      "text/html": [
       "<dl class=dl-horizontal>\n",
       "\t<dt>client_id</dt>\n",
       "\t\t<dd>0</dd>\n",
       "\t<dt>age</dt>\n",
       "\t\t<dd>0</dd>\n",
       "\t<dt>job</dt>\n",
       "\t\t<dd>0</dd>\n",
       "\t<dt>marital</dt>\n",
       "\t\t<dd>0</dd>\n",
       "\t<dt>education</dt>\n",
       "\t\t<dd>0</dd>\n",
       "\t<dt>default</dt>\n",
       "\t\t<dd>0</dd>\n",
       "\t<dt>housing</dt>\n",
       "\t\t<dd>0</dd>\n",
       "\t<dt>loan</dt>\n",
       "\t\t<dd>0</dd>\n",
       "\t<dt>contact</dt>\n",
       "\t\t<dd>0</dd>\n",
       "\t<dt>month</dt>\n",
       "\t\t<dd>0</dd>\n",
       "\t<dt>day_of_week</dt>\n",
       "\t\t<dd>0</dd>\n",
       "\t<dt>campaign</dt>\n",
       "\t\t<dd>0</dd>\n",
       "\t<dt>pdays</dt>\n",
       "\t\t<dd>0</dd>\n",
       "\t<dt>previous</dt>\n",
       "\t\t<dd>0</dd>\n",
       "\t<dt>poutcome</dt>\n",
       "\t\t<dd>0</dd>\n",
       "\t<dt>emp.var.rate</dt>\n",
       "\t\t<dd>0</dd>\n",
       "\t<dt>cons.price.idx</dt>\n",
       "\t\t<dd>0</dd>\n",
       "\t<dt>cons.conf.idx</dt>\n",
       "\t\t<dd>0</dd>\n",
       "\t<dt>euribor3m</dt>\n",
       "\t\t<dd>0</dd>\n",
       "\t<dt>nr.employed</dt>\n",
       "\t\t<dd>0</dd>\n",
       "\t<dt>subscribe</dt>\n",
       "\t\t<dd>0</dd>\n",
       "</dl>\n"
      ],
      "text/latex": [
       "\\begin{description*}\n",
       "\\item[client\\textbackslash{}\\_id] 0\n",
       "\\item[age] 0\n",
       "\\item[job] 0\n",
       "\\item[marital] 0\n",
       "\\item[education] 0\n",
       "\\item[default] 0\n",
       "\\item[housing] 0\n",
       "\\item[loan] 0\n",
       "\\item[contact] 0\n",
       "\\item[month] 0\n",
       "\\item[day\\textbackslash{}\\_of\\textbackslash{}\\_week] 0\n",
       "\\item[campaign] 0\n",
       "\\item[pdays] 0\n",
       "\\item[previous] 0\n",
       "\\item[poutcome] 0\n",
       "\\item[emp.var.rate] 0\n",
       "\\item[cons.price.idx] 0\n",
       "\\item[cons.conf.idx] 0\n",
       "\\item[euribor3m] 0\n",
       "\\item[nr.employed] 0\n",
       "\\item[subscribe] 0\n",
       "\\end{description*}\n"
      ],
      "text/markdown": [
       "client_id\n",
       ":   0age\n",
       ":   0job\n",
       ":   0marital\n",
       ":   0education\n",
       ":   0default\n",
       ":   0housing\n",
       ":   0loan\n",
       ":   0contact\n",
       ":   0month\n",
       ":   0day_of_week\n",
       ":   0campaign\n",
       ":   0pdays\n",
       ":   0previous\n",
       ":   0poutcome\n",
       ":   0emp.var.rate\n",
       ":   0cons.price.idx\n",
       ":   0cons.conf.idx\n",
       ":   0euribor3m\n",
       ":   0nr.employed\n",
       ":   0subscribe\n",
       ":   0\n",
       "\n"
      ],
      "text/plain": [
       "     client_id            age            job        marital      education \n",
       "             0              0              0              0              0 \n",
       "       default        housing           loan        contact          month \n",
       "             0              0              0              0              0 \n",
       "   day_of_week       campaign          pdays       previous       poutcome \n",
       "             0              0              0              0              0 \n",
       "  emp.var.rate cons.price.idx  cons.conf.idx      euribor3m    nr.employed \n",
       "             0              0              0              0              0 \n",
       "     subscribe \n",
       "             0 "
      ]
     },
     "metadata": {},
     "output_type": "display_data"
    }
   ],
   "source": [
    "apply(is.na(train_full), 2, sum)"
   ]
  },
  {
   "cell_type": "markdown",
   "metadata": {},
   "source": [
    "### 2.2 Split Data into train and valid"
   ]
  },
  {
   "cell_type": "code",
   "execution_count": 3,
   "metadata": {},
   "outputs": [
    {
     "data": {
      "text/html": [
       "<table>\n",
       "<thead><tr><th scope=col>Resample1</th></tr></thead>\n",
       "<tbody>\n",
       "\t<tr><td>1</td></tr>\n",
       "\t<tr><td>2</td></tr>\n",
       "\t<tr><td>3</td></tr>\n",
       "\t<tr><td>5</td></tr>\n",
       "\t<tr><td>6</td></tr>\n",
       "\t<tr><td>7</td></tr>\n",
       "</tbody>\n",
       "</table>\n"
      ],
      "text/latex": [
       "\\begin{tabular}{l}\n",
       " Resample1\\\\\n",
       "\\hline\n",
       "\t 1\\\\\n",
       "\t 2\\\\\n",
       "\t 3\\\\\n",
       "\t 5\\\\\n",
       "\t 6\\\\\n",
       "\t 7\\\\\n",
       "\\end{tabular}\n"
      ],
      "text/markdown": [
       "\n",
       "| Resample1 |\n",
       "|---|\n",
       "| 1 |\n",
       "| 2 |\n",
       "| 3 |\n",
       "| 5 |\n",
       "| 6 |\n",
       "| 7 |\n",
       "\n"
      ],
      "text/plain": [
       "     Resample1\n",
       "[1,] 1        \n",
       "[2,] 2        \n",
       "[3,] 3        \n",
       "[4,] 5        \n",
       "[5,] 6        \n",
       "[6,] 7        "
      ]
     },
     "metadata": {},
     "output_type": "display_data"
    }
   ],
   "source": [
    "# spiltting and resampling into train (70%) and valid (30%)\n",
    "set.seed(1314)\n",
    "trainIndex <- createDataPartition(train_full$subscribe, p = 0.7, list = FALSE, times = 1)\n",
    "head(trainIndex)"
   ]
  },
  {
   "cell_type": "code",
   "execution_count": 4,
   "metadata": {},
   "outputs": [],
   "source": [
    "train <- train_full[trainIndex, ]\n",
    "valid <- train_full[-trainIndex, ]"
   ]
  },
  {
   "cell_type": "markdown",
   "metadata": {},
   "source": [
    "#### Check the target variable class distribution"
   ]
  },
  {
   "cell_type": "code",
   "execution_count": 9,
   "metadata": {},
   "outputs": [
    {
     "data": {
      "text/html": [
       "<table>\n",
       "<thead><tr><th scope=col>subscribe</th><th scope=col>count</th><th scope=col>percentage</th></tr></thead>\n",
       "<tbody>\n",
       "\t<tr><td>0   </td><td>4305</td><td>0.88</td></tr>\n",
       "\t<tr><td>1   </td><td> 595</td><td>0.12</td></tr>\n",
       "</tbody>\n",
       "</table>\n"
      ],
      "text/latex": [
       "\\begin{tabular}{r|lll}\n",
       " subscribe & count & percentage\\\\\n",
       "\\hline\n",
       "\t 0    & 4305 & 0.88\\\\\n",
       "\t 1    &  595 & 0.12\\\\\n",
       "\\end{tabular}\n"
      ],
      "text/markdown": [
       "\n",
       "| subscribe | count | percentage |\n",
       "|---|---|---|\n",
       "| 0    | 4305 | 0.88 |\n",
       "| 1    |  595 | 0.12 |\n",
       "\n"
      ],
      "text/plain": [
       "  subscribe count percentage\n",
       "1 0         4305  0.88      \n",
       "2 1          595  0.12      "
      ]
     },
     "metadata": {},
     "output_type": "display_data"
    }
   ],
   "source": [
    "# train\n",
    "ddply(train, \"subscribe\", summarise, count = length(subscribe), \n",
    "    percentage = round(length(subscribe)/nrow(train), 2))"
   ]
  },
  {
   "cell_type": "code",
   "execution_count": 10,
   "metadata": {},
   "outputs": [
    {
     "data": {
      "text/html": [
       "<table>\n",
       "<thead><tr><th scope=col>subscribe</th><th scope=col>count</th><th scope=col>percentage</th></tr></thead>\n",
       "<tbody>\n",
       "\t<tr><td>0   </td><td>1873</td><td>0.89</td></tr>\n",
       "\t<tr><td>1   </td><td> 227</td><td>0.11</td></tr>\n",
       "</tbody>\n",
       "</table>\n"
      ],
      "text/latex": [
       "\\begin{tabular}{r|lll}\n",
       " subscribe & count & percentage\\\\\n",
       "\\hline\n",
       "\t 0    & 1873 & 0.89\\\\\n",
       "\t 1    &  227 & 0.11\\\\\n",
       "\\end{tabular}\n"
      ],
      "text/markdown": [
       "\n",
       "| subscribe | count | percentage |\n",
       "|---|---|---|\n",
       "| 0    | 1873 | 0.89 |\n",
       "| 1    |  227 | 0.11 |\n",
       "\n"
      ],
      "text/plain": [
       "  subscribe count percentage\n",
       "1 0         1873  0.89      \n",
       "2 1          227  0.11      "
      ]
     },
     "metadata": {},
     "output_type": "display_data"
    }
   ],
   "source": [
    "# vaild\n",
    "ddply(valid, \"subscribe\", summarise, count = length(subscribe), \n",
    "    percentage = round(length(subscribe)/nrow(valid), 2))"
   ]
  },
  {
   "cell_type": "markdown",
   "metadata": {},
   "source": [
    "#### find the important features"
   ]
  },
  {
   "cell_type": "code",
   "execution_count": 11,
   "metadata": {},
   "outputs": [
    {
     "name": "stdout",
     "output_type": "stream",
     "text": [
      "               Overall\n",
      "euribor3m    15.070305\n",
      "pdays        14.333073\n",
      "nr.employed  13.658191\n",
      "month        11.053390\n",
      "education    10.198596\n",
      "job           9.459365\n",
      "poutcome      9.261856\n",
      "age           9.153498\n",
      "contact       8.765193\n",
      "emp.var.rate  8.700949\n"
     ]
    }
   ],
   "source": [
    "set.seed(2)\n",
    "X <- train[, 2:(ncol(train)-1)]\n",
    "y <- as.factor(train[, 'subscribe'])\n",
    "# prepare training scheme\n",
    "control <- rfeControl(functions=rfFuncs, method=\"cv\", number=10)\n",
    "# train the model\n",
    "results <- rfe(X, y,rfeControl=control)\n",
    "# estimate variable importance\n",
    "importance <- varImp(results, scale=FALSE)\n",
    "# summarize importance\n",
    "print(importance)"
   ]
  },
  {
   "cell_type": "markdown",
   "metadata": {},
   "source": [
    "check more information about the important features"
   ]
  },
  {
   "cell_type": "code",
   "execution_count": 12,
   "metadata": {},
   "outputs": [
    {
     "data": {
      "text/plain": [
       "   Min. 1st Qu.  Median    Mean 3rd Qu.    Max. \n",
       "  0.634   1.327   4.857   3.568   4.961   5.045 "
      ]
     },
     "metadata": {},
     "output_type": "display_data"
    }
   ],
   "source": [
    "summary(train$euribor3m)"
   ]
  },
  {
   "cell_type": "code",
   "execution_count": 16,
   "metadata": {},
   "outputs": [
    {
     "data": {
      "text/plain": [
       "   Min. 1st Qu.  Median    Mean 3rd Qu.    Max. \n",
       "    0.0   999.0   999.0   961.7   999.0   999.0 "
      ]
     },
     "metadata": {},
     "output_type": "display_data"
    }
   ],
   "source": [
    "summary(train$pdays)"
   ]
  },
  {
   "cell_type": "code",
   "execution_count": 13,
   "metadata": {},
   "outputs": [
    {
     "data": {
      "text/plain": [
       "   Min. 1st Qu.  Median    Mean 3rd Qu.    Max. \n",
       "   4964    5099    5191    5165    5228    5228 "
      ]
     },
     "metadata": {},
     "output_type": "display_data"
    }
   ],
   "source": [
    "summary(train$nr.employed)"
   ]
  },
  {
   "cell_type": "code",
   "execution_count": 14,
   "metadata": {},
   "outputs": [
    {
     "data": {
      "text/html": [
       "<dl class=dl-horizontal>\n",
       "\t<dt>failure</dt>\n",
       "\t\t<dd>505</dd>\n",
       "\t<dt>nonexistent</dt>\n",
       "\t\t<dd>4229</dd>\n",
       "\t<dt>success</dt>\n",
       "\t\t<dd>166</dd>\n",
       "</dl>\n"
      ],
      "text/latex": [
       "\\begin{description*}\n",
       "\\item[failure] 505\n",
       "\\item[nonexistent] 4229\n",
       "\\item[success] 166\n",
       "\\end{description*}\n"
      ],
      "text/markdown": [
       "failure\n",
       ":   505nonexistent\n",
       ":   4229success\n",
       ":   166\n",
       "\n"
      ],
      "text/plain": [
       "    failure nonexistent     success \n",
       "        505        4229         166 "
      ]
     },
     "metadata": {},
     "output_type": "display_data"
    }
   ],
   "source": [
    "summary(train$poutcome)"
   ]
  },
  {
   "cell_type": "code",
   "execution_count": 15,
   "metadata": {},
   "outputs": [
    {
     "data": {
      "text/html": [
       "<dl class=dl-horizontal>\n",
       "\t<dt>apr</dt>\n",
       "\t\t<dd>316</dd>\n",
       "\t<dt>aug</dt>\n",
       "\t\t<dd>731</dd>\n",
       "\t<dt>dec</dt>\n",
       "\t\t<dd>21</dd>\n",
       "\t<dt>jul</dt>\n",
       "\t\t<dd>838</dd>\n",
       "\t<dt>jun</dt>\n",
       "\t\t<dd>638</dd>\n",
       "\t<dt>mar</dt>\n",
       "\t\t<dd>75</dd>\n",
       "\t<dt>may</dt>\n",
       "\t\t<dd>1634</dd>\n",
       "\t<dt>nov</dt>\n",
       "\t\t<dd>464</dd>\n",
       "\t<dt>oct</dt>\n",
       "\t\t<dd>108</dd>\n",
       "\t<dt>sep</dt>\n",
       "\t\t<dd>75</dd>\n",
       "</dl>\n"
      ],
      "text/latex": [
       "\\begin{description*}\n",
       "\\item[apr] 316\n",
       "\\item[aug] 731\n",
       "\\item[dec] 21\n",
       "\\item[jul] 838\n",
       "\\item[jun] 638\n",
       "\\item[mar] 75\n",
       "\\item[may] 1634\n",
       "\\item[nov] 464\n",
       "\\item[oct] 108\n",
       "\\item[sep] 75\n",
       "\\end{description*}\n"
      ],
      "text/markdown": [
       "apr\n",
       ":   316aug\n",
       ":   731dec\n",
       ":   21jul\n",
       ":   838jun\n",
       ":   638mar\n",
       ":   75may\n",
       ":   1634nov\n",
       ":   464oct\n",
       ":   108sep\n",
       ":   75\n",
       "\n"
      ],
      "text/plain": [
       " apr  aug  dec  jul  jun  mar  may  nov  oct  sep \n",
       " 316  731   21  838  638   75 1634  464  108   75 "
      ]
     },
     "metadata": {},
     "output_type": "display_data"
    }
   ],
   "source": [
    "summary(train$month)"
   ]
  },
  {
   "cell_type": "code",
   "execution_count": 17,
   "metadata": {},
   "outputs": [
    {
     "data": {
      "text/plain": [
       "   Min. 1st Qu.  Median    Mean 3rd Qu.    Max. \n",
       "  18.00   32.00   38.00   40.44   48.00   98.00 "
      ]
     },
     "metadata": {},
     "output_type": "display_data"
    }
   ],
   "source": [
    "summary(train$age)"
   ]
  },
  {
   "cell_type": "code",
   "execution_count": 18,
   "metadata": {},
   "outputs": [
    {
     "data": {
      "text/html": [
       "<dl class=dl-horizontal>\n",
       "\t<dt>basic.4y</dt>\n",
       "\t\t<dd>514</dd>\n",
       "\t<dt>basic.6y</dt>\n",
       "\t\t<dd>246</dd>\n",
       "\t<dt>basic.9y</dt>\n",
       "\t\t<dd>696</dd>\n",
       "\t<dt>high.school</dt>\n",
       "\t\t<dd>1126</dd>\n",
       "\t<dt>illiterate</dt>\n",
       "\t\t<dd>5</dd>\n",
       "\t<dt>professional.course</dt>\n",
       "\t\t<dd>632</dd>\n",
       "\t<dt>university.degree</dt>\n",
       "\t\t<dd>1478</dd>\n",
       "\t<dt>unknown</dt>\n",
       "\t\t<dd>203</dd>\n",
       "</dl>\n"
      ],
      "text/latex": [
       "\\begin{description*}\n",
       "\\item[basic.4y] 514\n",
       "\\item[basic.6y] 246\n",
       "\\item[basic.9y] 696\n",
       "\\item[high.school] 1126\n",
       "\\item[illiterate] 5\n",
       "\\item[professional.course] 632\n",
       "\\item[university.degree] 1478\n",
       "\\item[unknown] 203\n",
       "\\end{description*}\n"
      ],
      "text/markdown": [
       "basic.4y\n",
       ":   514basic.6y\n",
       ":   246basic.9y\n",
       ":   696high.school\n",
       ":   1126illiterate\n",
       ":   5professional.course\n",
       ":   632university.degree\n",
       ":   1478unknown\n",
       ":   203\n",
       "\n"
      ],
      "text/plain": [
       "           basic.4y            basic.6y            basic.9y         high.school \n",
       "                514                 246                 696                1126 \n",
       "         illiterate professional.course   university.degree             unknown \n",
       "                  5                 632                1478                 203 "
      ]
     },
     "metadata": {},
     "output_type": "display_data"
    }
   ],
   "source": [
    "summary(train$education)"
   ]
  },
  {
   "cell_type": "code",
   "execution_count": 19,
   "metadata": {},
   "outputs": [
    {
     "data": {
      "text/html": [
       "<dl class=dl-horizontal>\n",
       "\t<dt>admin.</dt>\n",
       "\t\t<dd>1212</dd>\n",
       "\t<dt>blue-collar</dt>\n",
       "\t\t<dd>1062</dd>\n",
       "\t<dt>entrepreneur</dt>\n",
       "\t\t<dd>178</dd>\n",
       "\t<dt>housemaid</dt>\n",
       "\t\t<dd>133</dd>\n",
       "\t<dt>management</dt>\n",
       "\t\t<dd>373</dd>\n",
       "\t<dt>retired</dt>\n",
       "\t\t<dd>221</dd>\n",
       "\t<dt>self-employed</dt>\n",
       "\t\t<dd>183</dd>\n",
       "\t<dt>services</dt>\n",
       "\t\t<dd>459</dd>\n",
       "\t<dt>student</dt>\n",
       "\t\t<dd>106</dd>\n",
       "\t<dt>technician</dt>\n",
       "\t\t<dd>816</dd>\n",
       "\t<dt>unemployed</dt>\n",
       "\t\t<dd>121</dd>\n",
       "\t<dt>unknown</dt>\n",
       "\t\t<dd>36</dd>\n",
       "</dl>\n"
      ],
      "text/latex": [
       "\\begin{description*}\n",
       "\\item[admin.] 1212\n",
       "\\item[blue-collar] 1062\n",
       "\\item[entrepreneur] 178\n",
       "\\item[housemaid] 133\n",
       "\\item[management] 373\n",
       "\\item[retired] 221\n",
       "\\item[self-employed] 183\n",
       "\\item[services] 459\n",
       "\\item[student] 106\n",
       "\\item[technician] 816\n",
       "\\item[unemployed] 121\n",
       "\\item[unknown] 36\n",
       "\\end{description*}\n"
      ],
      "text/markdown": [
       "admin.\n",
       ":   1212blue-collar\n",
       ":   1062entrepreneur\n",
       ":   178housemaid\n",
       ":   133management\n",
       ":   373retired\n",
       ":   221self-employed\n",
       ":   183services\n",
       ":   459student\n",
       ":   106technician\n",
       ":   816unemployed\n",
       ":   121unknown\n",
       ":   36\n",
       "\n"
      ],
      "text/plain": [
       "       admin.   blue-collar  entrepreneur     housemaid    management \n",
       "         1212          1062           178           133           373 \n",
       "      retired self-employed      services       student    technician \n",
       "          221           183           459           106           816 \n",
       "   unemployed       unknown \n",
       "          121            36 "
      ]
     },
     "metadata": {},
     "output_type": "display_data"
    }
   ],
   "source": [
    "summary(train$job)"
   ]
  },
  {
   "cell_type": "code",
   "execution_count": 20,
   "metadata": {},
   "outputs": [
    {
     "data": {
      "text/html": [
       "<dl class=dl-horizontal>\n",
       "\t<dt>cellular</dt>\n",
       "\t\t<dd>3125</dd>\n",
       "\t<dt>telephone</dt>\n",
       "\t\t<dd>1775</dd>\n",
       "</dl>\n"
      ],
      "text/latex": [
       "\\begin{description*}\n",
       "\\item[cellular] 3125\n",
       "\\item[telephone] 1775\n",
       "\\end{description*}\n"
      ],
      "text/markdown": [
       "cellular\n",
       ":   3125telephone\n",
       ":   1775\n",
       "\n"
      ],
      "text/plain": [
       " cellular telephone \n",
       "     3125      1775 "
      ]
     },
     "metadata": {},
     "output_type": "display_data"
    }
   ],
   "source": [
    "summary(train$contact)"
   ]
  },
  {
   "cell_type": "markdown",
   "metadata": {},
   "source": [
    "### 2.3 Create variables and dummies"
   ]
  },
  {
   "cell_type": "markdown",
   "metadata": {},
   "source": [
    "#### Add dummies for 'poutcome'"
   ]
  },
  {
   "cell_type": "code",
   "execution_count": 5,
   "metadata": {},
   "outputs": [],
   "source": [
    "train <- createDummyFeatures(train, cols = \"poutcome\")\n",
    "valid <- createDummyFeatures(valid, cols = \"poutcome\")\n",
    "test <- createDummyFeatures(test, cols = \"poutcome\")"
   ]
  },
  {
   "cell_type": "markdown",
   "metadata": {},
   "source": [
    "#### Add dummies for 'job'"
   ]
  },
  {
   "cell_type": "code",
   "execution_count": 6,
   "metadata": {},
   "outputs": [],
   "source": [
    "train <- createDummyFeatures(train, cols = \"job\")\n",
    "valid <- createDummyFeatures(valid, cols = \"job\")\n",
    "test <- createDummyFeatures(test, cols = \"job\")"
   ]
  },
  {
   "cell_type": "markdown",
   "metadata": {},
   "source": [
    "#### Add variable 'pdays_999'"
   ]
  },
  {
   "cell_type": "code",
   "execution_count": 7,
   "metadata": {},
   "outputs": [],
   "source": [
    "# Add new variable to train, valid and test\n",
    "# median and max of pdays is 999\n",
    "# Train, valid, test\n",
    "train[, 'pdays_999'] <- ifelse(train$pdays == 999, 1, 0)\n",
    "valid[, 'pdays_999'] <- ifelse(valid$pdays == 999, 1, 0)\n",
    "test[, 'pdays_999'] <- ifelse(test$pdays == 999, 1, 0)"
   ]
  },
  {
   "cell_type": "markdown",
   "metadata": {},
   "source": [
    "#### Add variable to gourp months into 4 seasons"
   ]
  },
  {
   "cell_type": "code",
   "execution_count": 8,
   "metadata": {},
   "outputs": [],
   "source": [
    "# group month: March, April, May in \"spring\"\n",
    "train[, 'spring'] <- ifelse(train$month %in% c('mar', 'apr', 'may'), 1, 0)\n",
    "valid[, 'spring'] <- ifelse(valid$month %in% c('mar', 'apr', 'may'), 1, 0)\n",
    "test[, 'spring'] <- ifelse(test$month %in% c('mar', 'apr', 'may'), 1, 0)"
   ]
  },
  {
   "cell_type": "code",
   "execution_count": 9,
   "metadata": {},
   "outputs": [],
   "source": [
    "# group month:June, July, August in \"summer\"\n",
    "train[, 'summer'] <- ifelse(train$month %in% c('jun', 'jul', 'aug'), 1, 0)\n",
    "valid[, 'summer'] <- ifelse(valid$month %in% c('jun', 'jul', 'aug'), 1, 0)\n",
    "test[, 'summer'] <- ifelse(test$month %in% c('jun', 'jul', 'aug'), 1, 0)"
   ]
  },
  {
   "cell_type": "code",
   "execution_count": 10,
   "metadata": {},
   "outputs": [],
   "source": [
    "# group month: September, October, November in \"fall\"\n",
    "train[, 'fall'] <- ifelse(train$month %in% c('sep', 'oct', 'nov'), 1, 0)\n",
    "valid[, 'fall'] <- ifelse(valid$month %in% c('sep', 'oct', 'nov'), 1, 0)\n",
    "test[, 'fall'] <- ifelse(test$month %in% c('sep', 'oct', 'nov'), 1, 0)"
   ]
  },
  {
   "cell_type": "code",
   "execution_count": 11,
   "metadata": {},
   "outputs": [],
   "source": [
    "# group month: December, January, Februaryin \"winter\"\n",
    "train[, 'winter'] <- ifelse(train$month %in% c('dec', 'jan', 'feb'), 1, 0)\n",
    "valid[, 'winter'] <- ifelse(valid$month %in% c('dec', 'jan', 'feb'), 1, 0)\n",
    "test[, 'winter'] <- ifelse(test$month %in% c('dec', 'jan', 'feb'), 1, 0)"
   ]
  },
  {
   "cell_type": "code",
   "execution_count": 12,
   "metadata": {},
   "outputs": [],
   "source": [
    "#### Add varaible 'higher_education'\n",
    "train[, 'higher_education'] <- ifelse(train$education %in% c('professional.course', 'university.degree'),1,0) \n",
    "valid[, 'higher_education'] <- ifelse(valid$education %in% c('professional.course', 'university.degree'),1,0) \n",
    "test[, 'higher_education'] <- ifelse(test$education %in% c('professional.course', 'university.degree'),1,0) "
   ]
  },
  {
   "cell_type": "markdown",
   "metadata": {},
   "source": [
    "#### Add variable: age_greater"
   ]
  },
  {
   "cell_type": "code",
   "execution_count": 13,
   "metadata": {},
   "outputs": [],
   "source": [
    "# take age greater than median 38 as age_greater\n",
    "train[, 'age_greater'] <- ifelse(train$age > 38, 1, 0)\n",
    "valid[, 'age_greater'] <- ifelse(valid$age > 38, 1, 0)\n",
    "test[, 'age_greater'] <- ifelse(test$age > 38, 1, 0)"
   ]
  },
  {
   "cell_type": "markdown",
   "metadata": {},
   "source": [
    "#### add dummy variables for contact "
   ]
  },
  {
   "cell_type": "code",
   "execution_count": 14,
   "metadata": {},
   "outputs": [],
   "source": [
    "train[, 'contact_telephone'] <- ifelse(train$contact == 'telephone', 1, 0)\n",
    "valid[, 'contact_telephone'] <- ifelse(valid$contact == 'telephone', 1, 0)\n",
    "test[, 'contact_telephone'] <- ifelse(test$contact == 'telephone', 1, 0)"
   ]
  },
  {
   "cell_type": "markdown",
   "metadata": {},
   "source": [
    "#### add dummy variables for marital, default, housing, loan, day_of_week"
   ]
  },
  {
   "cell_type": "code",
   "execution_count": 15,
   "metadata": {},
   "outputs": [],
   "source": [
    "train <- createDummyFeatures(train, cols = \"marital\")\n",
    "valid <- createDummyFeatures(valid, cols = \"marital\")\n",
    "test <- createDummyFeatures(test, cols = \"marital\")\n",
    "\n",
    "train <- createDummyFeatures(train, cols = \"default\")\n",
    "valid <- createDummyFeatures(valid, cols = \"default\")\n",
    "test <- createDummyFeatures(test, cols = \"default\")\n",
    "\n",
    "train <- createDummyFeatures(train, cols = \"housing\")\n",
    "valid <- createDummyFeatures(valid, cols = \"housing\")\n",
    "test <- createDummyFeatures(test, cols = \"housing\")\n",
    "\n",
    "train <- createDummyFeatures(train, cols = \"loan\")\n",
    "valid <- createDummyFeatures(valid, cols = \"loan\")\n",
    "test <- createDummyFeatures(test, cols = \"loan\")\n",
    "\n",
    "\n",
    "train <- createDummyFeatures(train, cols = \"day_of_week\")\n",
    "valid <- createDummyFeatures(valid, cols = \"day_of_week\")\n",
    "test <- createDummyFeatures(test, cols = \"day_of_week\")"
   ]
  },
  {
   "cell_type": "code",
   "execution_count": 17,
   "metadata": {},
   "outputs": [
    {
     "data": {
      "text/html": [
       "<table>\n",
       "<thead><tr><th></th><th scope=col>client_id</th><th scope=col>age</th><th scope=col>education</th><th scope=col>contact</th><th scope=col>month</th><th scope=col>campaign</th><th scope=col>pdays</th><th scope=col>previous</th><th scope=col>emp.var.rate</th><th scope=col>cons.price.idx</th><th scope=col>...</th><th scope=col>housing.unknown</th><th scope=col>housing.yes</th><th scope=col>loan.no</th><th scope=col>loan.unknown</th><th scope=col>loan.yes</th><th scope=col>day_of_week.fri</th><th scope=col>day_of_week.mon</th><th scope=col>day_of_week.thu</th><th scope=col>day_of_week.tue</th><th scope=col>day_of_week.wed</th></tr></thead>\n",
       "<tbody>\n",
       "\t<tr><th scope=row>1</th><td>2                </td><td>29               </td><td>high.school      </td><td>telephone        </td><td>may              </td><td>3                </td><td>999              </td><td>0                </td><td> 1.1             </td><td>93.994           </td><td>...              </td><td>0                </td><td>0                </td><td>1                </td><td>0                </td><td>0                </td><td>0                </td><td>1                </td><td>0                </td><td>0                </td><td>0                </td></tr>\n",
       "\t<tr><th scope=row>2</th><td>3                </td><td>39               </td><td>basic.9y         </td><td>telephone        </td><td>jun              </td><td>6                </td><td>999              </td><td>0                </td><td> 1.4             </td><td>94.465           </td><td>...              </td><td>0                </td><td>1                </td><td>1                </td><td>0                </td><td>0                </td><td>1                </td><td>0                </td><td>0                </td><td>0                </td><td>0                </td></tr>\n",
       "\t<tr><th scope=row>3</th><td>4                </td><td>49               </td><td>basic.6y         </td><td>cellular         </td><td>nov              </td><td>2                </td><td>999              </td><td>0                </td><td>-0.1             </td><td>93.200           </td><td>...              </td><td>0                </td><td>0                </td><td>1                </td><td>0                </td><td>0                </td><td>0                </td><td>0                </td><td>0                </td><td>1                </td><td>0                </td></tr>\n",
       "\t<tr><th scope=row>5</th><td>6                </td><td>29               </td><td>high.school      </td><td>cellular         </td><td>jul              </td><td>2                </td><td>999              </td><td>0                </td><td> 1.4             </td><td>93.918           </td><td>...              </td><td>0                </td><td>1                </td><td>1                </td><td>0                </td><td>0                </td><td>1                </td><td>0                </td><td>0                </td><td>0                </td><td>0                </td></tr>\n",
       "\t<tr><th scope=row>6</th><td>7                </td><td>51               </td><td>university.degree</td><td>telephone        </td><td>jun              </td><td>1                </td><td>999              </td><td>0                </td><td> 1.4             </td><td>94.465           </td><td>...              </td><td>0                </td><td>1                </td><td>1                </td><td>0                </td><td>0                </td><td>0                </td><td>0                </td><td>0                </td><td>1                </td><td>0                </td></tr>\n",
       "\t<tr><th scope=row>7</th><td>8                </td><td>34               </td><td>basic.4y         </td><td>cellular         </td><td>nov              </td><td>1                </td><td>999              </td><td>0                </td><td>-0.1             </td><td>93.200           </td><td>...              </td><td>0                </td><td>1                </td><td>1                </td><td>0                </td><td>0                </td><td>0                </td><td>0                </td><td>0                </td><td>1                </td><td>0                </td></tr>\n",
       "</tbody>\n",
       "</table>\n"
      ],
      "text/latex": [
       "\\begin{tabular}{r|llllllllllllllllllllllllllllllllllllllllllllllllllllll}\n",
       "  & client\\_id & age & education & contact & month & campaign & pdays & previous & emp.var.rate & cons.price.idx & ... & housing.unknown & housing.yes & loan.no & loan.unknown & loan.yes & day\\_of\\_week.fri & day\\_of\\_week.mon & day\\_of\\_week.thu & day\\_of\\_week.tue & day\\_of\\_week.wed\\\\\n",
       "\\hline\n",
       "\t1 & 2                 & 29                & high.school       & telephone         & may               & 3                 & 999               & 0                 &  1.1              & 93.994            & ...               & 0                 & 0                 & 1                 & 0                 & 0                 & 0                 & 1                 & 0                 & 0                 & 0                \\\\\n",
       "\t2 & 3                 & 39                & basic.9y          & telephone         & jun               & 6                 & 999               & 0                 &  1.4              & 94.465            & ...               & 0                 & 1                 & 1                 & 0                 & 0                 & 1                 & 0                 & 0                 & 0                 & 0                \\\\\n",
       "\t3 & 4                 & 49                & basic.6y          & cellular          & nov               & 2                 & 999               & 0                 & -0.1              & 93.200            & ...               & 0                 & 0                 & 1                 & 0                 & 0                 & 0                 & 0                 & 0                 & 1                 & 0                \\\\\n",
       "\t5 & 6                 & 29                & high.school       & cellular          & jul               & 2                 & 999               & 0                 &  1.4              & 93.918            & ...               & 0                 & 1                 & 1                 & 0                 & 0                 & 1                 & 0                 & 0                 & 0                 & 0                \\\\\n",
       "\t6 & 7                 & 51                & university.degree & telephone         & jun               & 1                 & 999               & 0                 &  1.4              & 94.465            & ...               & 0                 & 1                 & 1                 & 0                 & 0                 & 0                 & 0                 & 0                 & 1                 & 0                \\\\\n",
       "\t7 & 8                 & 34                & basic.4y          & cellular          & nov               & 1                 & 999               & 0                 & -0.1              & 93.200            & ...               & 0                 & 1                 & 1                 & 0                 & 0                 & 0                 & 0                 & 0                 & 1                 & 0                \\\\\n",
       "\\end{tabular}\n"
      ],
      "text/markdown": [
       "\n",
       "| <!--/--> | client_id | age | education | contact | month | campaign | pdays | previous | emp.var.rate | cons.price.idx | ... | housing.unknown | housing.yes | loan.no | loan.unknown | loan.yes | day_of_week.fri | day_of_week.mon | day_of_week.thu | day_of_week.tue | day_of_week.wed |\n",
       "|---|---|---|---|---|---|---|---|---|---|---|---|---|---|---|---|---|---|---|---|---|---|\n",
       "| 1 | 2                 | 29                | high.school       | telephone         | may               | 3                 | 999               | 0                 |  1.1              | 93.994            | ...               | 0                 | 0                 | 1                 | 0                 | 0                 | 0                 | 1                 | 0                 | 0                 | 0                 |\n",
       "| 2 | 3                 | 39                | basic.9y          | telephone         | jun               | 6                 | 999               | 0                 |  1.4              | 94.465            | ...               | 0                 | 1                 | 1                 | 0                 | 0                 | 1                 | 0                 | 0                 | 0                 | 0                 |\n",
       "| 3 | 4                 | 49                | basic.6y          | cellular          | nov               | 2                 | 999               | 0                 | -0.1              | 93.200            | ...               | 0                 | 0                 | 1                 | 0                 | 0                 | 0                 | 0                 | 0                 | 1                 | 0                 |\n",
       "| 5 | 6                 | 29                | high.school       | cellular          | jul               | 2                 | 999               | 0                 |  1.4              | 93.918            | ...               | 0                 | 1                 | 1                 | 0                 | 0                 | 1                 | 0                 | 0                 | 0                 | 0                 |\n",
       "| 6 | 7                 | 51                | university.degree | telephone         | jun               | 1                 | 999               | 0                 |  1.4              | 94.465            | ...               | 0                 | 1                 | 1                 | 0                 | 0                 | 0                 | 0                 | 0                 | 1                 | 0                 |\n",
       "| 7 | 8                 | 34                | basic.4y          | cellular          | nov               | 1                 | 999               | 0                 | -0.1              | 93.200            | ...               | 0                 | 1                 | 1                 | 0                 | 0                 | 0                 | 0                 | 0                 | 1                 | 0                 |\n",
       "\n"
      ],
      "text/plain": [
       "  client_id age education         contact   month campaign pdays previous\n",
       "1 2         29  high.school       telephone may   3        999   0       \n",
       "2 3         39  basic.9y          telephone jun   6        999   0       \n",
       "3 4         49  basic.6y          cellular  nov   2        999   0       \n",
       "5 6         29  high.school       cellular  jul   2        999   0       \n",
       "6 7         51  university.degree telephone jun   1        999   0       \n",
       "7 8         34  basic.4y          cellular  nov   1        999   0       \n",
       "  emp.var.rate cons.price.idx ... housing.unknown housing.yes loan.no\n",
       "1  1.1         93.994         ... 0               0           1      \n",
       "2  1.4         94.465         ... 0               1           1      \n",
       "3 -0.1         93.200         ... 0               0           1      \n",
       "5  1.4         93.918         ... 0               1           1      \n",
       "6  1.4         94.465         ... 0               1           1      \n",
       "7 -0.1         93.200         ... 0               1           1      \n",
       "  loan.unknown loan.yes day_of_week.fri day_of_week.mon day_of_week.thu\n",
       "1 0            0        0               1               0              \n",
       "2 0            0        1               0               0              \n",
       "3 0            0        0               0               0              \n",
       "5 0            0        1               0               0              \n",
       "6 0            0        0               0               0              \n",
       "7 0            0        0               0               0              \n",
       "  day_of_week.tue day_of_week.wed\n",
       "1 0               0              \n",
       "2 0               0              \n",
       "3 1               0              \n",
       "5 0               0              \n",
       "6 1               0              \n",
       "7 1               0              "
      ]
     },
     "metadata": {},
     "output_type": "display_data"
    }
   ],
   "source": [
    "head(train)"
   ]
  },
  {
   "cell_type": "markdown",
   "metadata": {},
   "source": [
    "### 2.4 Feature selection\n",
    "\n",
    "FisherScore Reference:  \n",
    "Verbeke, W., Dejaeger, K., Martens, D., Hur, J., & Baesens, B. (2012). New insights into churn prediction in the telecommunication sector: A profit driven data mining approach. European Journal of Operational Research, 218(1), 211-229."
   ]
  },
  {
   "cell_type": "markdown",
   "metadata": {},
   "source": [
    "#### Check missing values"
   ]
  },
  {
   "cell_type": "code",
   "execution_count": 16,
   "metadata": {},
   "outputs": [
    {
     "data": {
      "text/html": [
       "0"
      ],
      "text/latex": [
       "0"
      ],
      "text/markdown": [
       "0"
      ],
      "text/plain": [
       "[1] 0"
      ]
     },
     "metadata": {},
     "output_type": "display_data"
    },
    {
     "data": {
      "text/html": [
       "0"
      ],
      "text/latex": [
       "0"
      ],
      "text/markdown": [
       "0"
      ],
      "text/plain": [
       "[1] 0"
      ]
     },
     "metadata": {},
     "output_type": "display_data"
    },
    {
     "data": {
      "text/html": [
       "0"
      ],
      "text/latex": [
       "0"
      ],
      "text/markdown": [
       "0"
      ],
      "text/plain": [
       "[1] 0"
      ]
     },
     "metadata": {},
     "output_type": "display_data"
    }
   ],
   "source": [
    "# Train, valid, test\n",
    "sum(apply(is.na(train), 2, sum))\n",
    "sum(apply(is.na(valid), 2, sum))\n",
    "sum(apply(is.na(test), 2, sum))"
   ]
  },
  {
   "cell_type": "code",
   "execution_count": 24,
   "metadata": {},
   "outputs": [
    {
     "name": "stdout",
     "output_type": "stream",
     "text": [
      "'data.frame':\t4900 obs. of  54 variables:\n",
      " $ client_id           : int  2 3 4 6 7 8 14 15 16 18 ...\n",
      " $ age                 : int  29 39 49 29 51 34 52 29 31 47 ...\n",
      " $ education           : Factor w/ 8 levels \"basic.4y\",\"basic.6y\",..: 4 3 2 4 7 1 7 7 2 4 ...\n",
      " $ contact             : Factor w/ 2 levels \"cellular\",\"telephone\": 2 2 1 1 2 1 1 1 1 2 ...\n",
      " $ month               : Factor w/ 10 levels \"apr\",\"aug\",\"dec\",..: 7 5 8 4 5 8 8 5 7 7 ...\n",
      " $ campaign            : int  3 6 2 2 1 1 3 1 1 1 ...\n",
      " $ pdays               : int  999 999 999 999 999 999 999 999 999 999 ...\n",
      " $ previous            : int  0 0 0 0 0 0 0 0 0 0 ...\n",
      " $ emp.var.rate        : num  1.1 1.4 -0.1 1.4 1.4 -0.1 -0.1 -2.9 -1.8 1.1 ...\n",
      " $ cons.price.idx      : num  94 94.5 93.2 93.9 94.5 ...\n",
      " $ cons.conf.idx       : num  -36.4 -41.8 -42 -42.7 -41.8 -42 -42 -40.8 -46.2 -36.4 ...\n",
      " $ euribor3m           : num  4.86 4.96 4.15 4.96 4.86 ...\n",
      " $ nr.employed         : num  5191 5228 5196 5228 5228 ...\n",
      " $ subscribe           : int  0 0 0 0 0 0 0 0 0 0 ...\n",
      " $ poutcome.failure    : num  0 0 0 0 0 0 0 0 0 0 ...\n",
      " $ poutcome.nonexistent: num  1 1 1 1 1 1 1 1 1 1 ...\n",
      " $ poutcome.success    : num  0 0 0 0 0 0 0 0 0 0 ...\n",
      " $ job.admin.          : num  0 0 0 1 0 0 1 1 0 1 ...\n",
      " $ job.blue.collar     : num  0 0 1 0 0 1 0 0 0 0 ...\n",
      " $ job.entrepreneur    : num  0 0 0 0 0 0 0 0 0 0 ...\n",
      " $ job.housemaid       : num  1 0 0 0 0 0 0 0 1 0 ...\n",
      " $ job.management      : num  0 0 0 0 0 0 0 0 0 0 ...\n",
      " $ job.retired         : num  0 0 0 0 0 0 0 0 0 0 ...\n",
      " $ job.self.employed   : num  0 0 0 0 1 0 0 0 0 0 ...\n",
      " $ job.services        : num  0 0 0 0 0 0 0 0 0 0 ...\n",
      " $ job.student         : num  0 0 0 0 0 0 0 0 0 0 ...\n",
      " $ job.technician      : num  0 0 0 0 0 0 0 0 0 0 ...\n",
      " $ job.unemployed      : num  0 1 0 0 0 0 0 0 0 0 ...\n",
      " $ job.unknown         : num  0 0 0 0 0 0 0 0 0 0 ...\n",
      " $ pdays_999           : num  1 1 1 1 1 1 1 1 1 1 ...\n",
      " $ spring              : num  1 0 0 0 0 0 0 0 1 1 ...\n",
      " $ summer              : num  0 1 0 1 1 0 0 1 0 0 ...\n",
      " $ fall                : num  0 0 1 0 0 1 1 0 0 0 ...\n",
      " $ winter              : num  0 0 0 0 0 0 0 0 0 0 ...\n",
      " $ higher_education    : num  0 0 0 0 1 0 1 1 0 0 ...\n",
      " $ age_greater         : num  0 1 1 0 1 0 1 0 0 1 ...\n",
      " $ contact_telephone   : num  1 1 0 0 1 0 0 0 0 1 ...\n",
      " $ marital.divorced    : num  0 0 0 0 0 0 0 0 1 0 ...\n",
      " $ marital.married     : num  0 1 1 0 1 1 1 0 0 1 ...\n",
      " $ marital.single      : num  1 0 0 1 0 0 0 1 0 0 ...\n",
      " $ marital.unknown     : num  0 0 0 0 0 0 0 0 0 0 ...\n",
      " $ default.no          : num  1 0 0 0 0 1 1 1 1 1 ...\n",
      " $ default.unknown     : num  0 1 1 1 1 0 0 0 0 0 ...\n",
      " $ housing.no          : num  1 0 1 0 0 0 0 0 1 1 ...\n",
      " $ housing.unknown     : num  0 0 0 0 0 0 0 0 0 0 ...\n",
      " $ housing.yes         : num  0 1 0 1 1 1 1 1 0 0 ...\n",
      " $ loan.no             : num  1 1 1 1 1 1 1 1 0 0 ...\n",
      " $ loan.unknown        : num  0 0 0 0 0 0 0 0 0 0 ...\n",
      " $ loan.yes            : num  0 0 0 0 0 0 0 0 1 1 ...\n",
      " $ day_of_week.fri     : num  0 1 0 1 0 0 0 0 0 0 ...\n",
      " $ day_of_week.mon     : num  1 0 0 0 0 0 0 1 0 0 ...\n",
      " $ day_of_week.thu     : num  0 0 0 0 0 0 1 0 0 0 ...\n",
      " $ day_of_week.tue     : num  0 0 1 0 1 1 0 0 0 0 ...\n",
      " $ day_of_week.wed     : num  0 0 0 0 0 0 0 0 1 1 ...\n"
     ]
    }
   ],
   "source": [
    "str(train)"
   ]
  },
  {
   "cell_type": "code",
   "execution_count": 17,
   "metadata": {},
   "outputs": [],
   "source": [
    "# drop categorical variables\n",
    "train[, c('education', 'contact', 'month')] <- NULL\n",
    "valid[, c('education', 'contact', 'month')] <- NULL\n",
    "test[, c('education', 'contact', 'month')] <- NULL"
   ]
  },
  {
   "cell_type": "markdown",
   "metadata": {},
   "source": [
    "#### 2.4.2. Variable selection: Fisher Score"
   ]
  },
  {
   "cell_type": "code",
   "execution_count": 18,
   "metadata": {},
   "outputs": [],
   "source": [
    "FisherScore <- function(basetable, depvar, IV_list) {\n",
    "\n",
    "  # Get the unique values of dependent variable\n",
    "  DV <- unique(basetable[, depvar])\n",
    "  \n",
    "  IV_FisherScore <- c()\n",
    "  \n",
    "  for (v in IV_list) {\n",
    "    fs <- abs((mean(basetable[which(basetable[, depvar]==DV[1]), v]) - mean(basetable[which(basetable[, depvar]==DV[2]), v]))) /\n",
    "      sqrt((var(basetable[which(basetable[, depvar]==DV[1]), v]) + var(basetable[which(basetable[, depvar]==DV[2]), v])))\n",
    "    IV_FisherScore <- c(IV_FisherScore, fs)\n",
    "  }\n",
    "  \n",
    "  return(data.frame(IV=IV_list, fisher_score=IV_FisherScore))\n",
    "}\n",
    "\n",
    "varSelectionFisher <- function(basetable, depvar, IV_list, num_select=20) {\n",
    "  \n",
    "  fs <- FisherScore(basetable, depvar, IV_list)  # Calculate Fisher Score for all IVs\n",
    "  num_select <- min(num_select, ncol(basetable))  # Top N IVs to be selected\n",
    "  return(as.vector(fs[order(fs$fisher_score, decreasing=T), ][1:num_select, 'IV']))\n",
    "}"
   ]
  },
  {
   "cell_type": "code",
   "execution_count": 19,
   "metadata": {},
   "outputs": [
    {
     "data": {
      "text/html": [
       "<table>\n",
       "<thead><tr><th scope=col>IV</th><th scope=col>fisher_score</th></tr></thead>\n",
       "<tbody>\n",
       "\t<tr><td>age           </td><td>0.1004625     </td></tr>\n",
       "\t<tr><td>campaign      </td><td>0.1624347     </td></tr>\n",
       "\t<tr><td>pdays         </td><td>0.4525253     </td></tr>\n",
       "\t<tr><td>previous      </td><td>0.3851976     </td></tr>\n",
       "\t<tr><td>emp.var.rate  </td><td>0.6932537     </td></tr>\n",
       "\t<tr><td>cons.price.idx</td><td>0.3027802     </td></tr>\n",
       "</tbody>\n",
       "</table>\n"
      ],
      "text/latex": [
       "\\begin{tabular}{r|ll}\n",
       " IV & fisher\\_score\\\\\n",
       "\\hline\n",
       "\t age            & 0.1004625     \\\\\n",
       "\t campaign       & 0.1624347     \\\\\n",
       "\t pdays          & 0.4525253     \\\\\n",
       "\t previous       & 0.3851976     \\\\\n",
       "\t emp.var.rate   & 0.6932537     \\\\\n",
       "\t cons.price.idx & 0.3027802     \\\\\n",
       "\\end{tabular}\n"
      ],
      "text/markdown": [
       "\n",
       "| IV | fisher_score |\n",
       "|---|---|\n",
       "| age            | 0.1004625      |\n",
       "| campaign       | 0.1624347      |\n",
       "| pdays          | 0.4525253      |\n",
       "| previous       | 0.3851976      |\n",
       "| emp.var.rate   | 0.6932537      |\n",
       "| cons.price.idx | 0.3027802      |\n",
       "\n"
      ],
      "text/plain": [
       "  IV             fisher_score\n",
       "1 age            0.1004625   \n",
       "2 campaign       0.1624347   \n",
       "3 pdays          0.4525253   \n",
       "4 previous       0.3851976   \n",
       "5 emp.var.rate   0.6932537   \n",
       "6 cons.price.idx 0.3027802   "
      ]
     },
     "metadata": {},
     "output_type": "display_data"
    }
   ],
   "source": [
    "# Calculate Fisher Score for all variable\n",
    "# Get the IV and DV list\n",
    "dv_list <- c('subscribe')  # DV list\n",
    "iv_list <- setdiff(names(train), dv_list)  # IV list excluded DV\n",
    "iv_list <- setdiff(iv_list, 'client_id')  # Excluded the client_id\n",
    "fs <- FisherScore(train, dv_list, iv_list)\n",
    "head(fs)"
   ]
  },
  {
   "cell_type": "code",
   "execution_count": 20,
   "metadata": {},
   "outputs": [
    {
     "data": {
      "text/html": [
       "<ol class=list-inline>\n",
       "\t<li>'nr.employed'</li>\n",
       "\t<li>'euribor3m'</li>\n",
       "\t<li>'emp.var.rate'</li>\n",
       "\t<li>'pdays_999'</li>\n",
       "\t<li>'pdays'</li>\n",
       "\t<li>'poutcome.success'</li>\n",
       "\t<li>'contact_telephone'</li>\n",
       "\t<li>'previous'</li>\n",
       "\t<li>'poutcome.nonexistent'</li>\n",
       "\t<li>'cons.price.idx'</li>\n",
       "\t<li>'default.no'</li>\n",
       "\t<li>'default.unknown'</li>\n",
       "\t<li>'fall'</li>\n",
       "\t<li>'job.retired'</li>\n",
       "\t<li>'job.student'</li>\n",
       "\t<li>'campaign'</li>\n",
       "\t<li>'job.blue.collar'</li>\n",
       "\t<li>'cons.conf.idx'</li>\n",
       "\t<li>'job.services'</li>\n",
       "\t<li>'winter'</li>\n",
       "</ol>\n"
      ],
      "text/latex": [
       "\\begin{enumerate*}\n",
       "\\item 'nr.employed'\n",
       "\\item 'euribor3m'\n",
       "\\item 'emp.var.rate'\n",
       "\\item 'pdays\\_999'\n",
       "\\item 'pdays'\n",
       "\\item 'poutcome.success'\n",
       "\\item 'contact\\_telephone'\n",
       "\\item 'previous'\n",
       "\\item 'poutcome.nonexistent'\n",
       "\\item 'cons.price.idx'\n",
       "\\item 'default.no'\n",
       "\\item 'default.unknown'\n",
       "\\item 'fall'\n",
       "\\item 'job.retired'\n",
       "\\item 'job.student'\n",
       "\\item 'campaign'\n",
       "\\item 'job.blue.collar'\n",
       "\\item 'cons.conf.idx'\n",
       "\\item 'job.services'\n",
       "\\item 'winter'\n",
       "\\end{enumerate*}\n"
      ],
      "text/markdown": [
       "1. 'nr.employed'\n",
       "2. 'euribor3m'\n",
       "3. 'emp.var.rate'\n",
       "4. 'pdays_999'\n",
       "5. 'pdays'\n",
       "6. 'poutcome.success'\n",
       "7. 'contact_telephone'\n",
       "8. 'previous'\n",
       "9. 'poutcome.nonexistent'\n",
       "10. 'cons.price.idx'\n",
       "11. 'default.no'\n",
       "12. 'default.unknown'\n",
       "13. 'fall'\n",
       "14. 'job.retired'\n",
       "15. 'job.student'\n",
       "16. 'campaign'\n",
       "17. 'job.blue.collar'\n",
       "18. 'cons.conf.idx'\n",
       "19. 'job.services'\n",
       "20. 'winter'\n",
       "\n",
       "\n"
      ],
      "text/plain": [
       " [1] \"nr.employed\"          \"euribor3m\"            \"emp.var.rate\"        \n",
       " [4] \"pdays_999\"            \"pdays\"                \"poutcome.success\"    \n",
       " [7] \"contact_telephone\"    \"previous\"             \"poutcome.nonexistent\"\n",
       "[10] \"cons.price.idx\"       \"default.no\"           \"default.unknown\"     \n",
       "[13] \"fall\"                 \"job.retired\"          \"job.student\"         \n",
       "[16] \"campaign\"             \"job.blue.collar\"      \"cons.conf.idx\"       \n",
       "[19] \"job.services\"         \"winter\"              "
      ]
     },
     "metadata": {},
     "output_type": "display_data"
    }
   ],
   "source": [
    "# Select top 20 variables according to the Fisher Score\n",
    "best_fs_var <- varSelectionFisher(train, dv_list, iv_list, num_select=20)\n",
    "best_fs_var"
   ]
  },
  {
   "cell_type": "code",
   "execution_count": 21,
   "metadata": {},
   "outputs": [],
   "source": [
    "# Apply variable selection to the data\n",
    "# Train\n",
    "var_select <- names(train)[names(train) %in% best_fs_var]\n",
    "Train <- train[, c('client_id', var_select, 'subscribe')]\n",
    "# Valid\n",
    "var_select <- names(valid)[names(valid) %in% best_fs_var]\n",
    "Valid <- valid[, c('client_id', var_select, 'subscribe')]\n",
    "# Test\n",
    "var_select <- names(test)[names(test) %in% best_fs_var]\n",
    "Test <- test[, c('client_id', var_select)]"
   ]
  },
  {
   "cell_type": "code",
   "execution_count": 26,
   "metadata": {},
   "outputs": [
    {
     "data": {
      "text/html": [
       "<table>\n",
       "<thead><tr><th></th><th scope=col>client_id</th><th scope=col>campaign</th><th scope=col>pdays</th><th scope=col>previous</th><th scope=col>emp.var.rate</th><th scope=col>cons.price.idx</th><th scope=col>cons.conf.idx</th><th scope=col>euribor3m</th><th scope=col>nr.employed</th><th scope=col>poutcome.nonexistent</th><th scope=col>...</th><th scope=col>job.retired</th><th scope=col>job.services</th><th scope=col>job.student</th><th scope=col>pdays_999</th><th scope=col>fall</th><th scope=col>winter</th><th scope=col>contact_telephone</th><th scope=col>default.no</th><th scope=col>default.unknown</th><th scope=col>subscribe</th></tr></thead>\n",
       "<tbody>\n",
       "\t<tr><th scope=row>1</th><td>2     </td><td>3     </td><td>999   </td><td>0     </td><td> 1.1  </td><td>93.994</td><td>-36.4 </td><td>4.858 </td><td>5191.0</td><td>1     </td><td>...   </td><td>0     </td><td>0     </td><td>0     </td><td>1     </td><td>0     </td><td>0     </td><td>1     </td><td>1     </td><td>0     </td><td>0     </td></tr>\n",
       "\t<tr><th scope=row>2</th><td>3     </td><td>6     </td><td>999   </td><td>0     </td><td> 1.4  </td><td>94.465</td><td>-41.8 </td><td>4.959 </td><td>5228.1</td><td>1     </td><td>...   </td><td>0     </td><td>0     </td><td>0     </td><td>1     </td><td>0     </td><td>0     </td><td>1     </td><td>0     </td><td>1     </td><td>0     </td></tr>\n",
       "\t<tr><th scope=row>3</th><td>4     </td><td>2     </td><td>999   </td><td>0     </td><td>-0.1  </td><td>93.200</td><td>-42.0 </td><td>4.153 </td><td>5195.8</td><td>1     </td><td>...   </td><td>0     </td><td>0     </td><td>0     </td><td>1     </td><td>1     </td><td>0     </td><td>0     </td><td>0     </td><td>1     </td><td>0     </td></tr>\n",
       "\t<tr><th scope=row>5</th><td>6     </td><td>2     </td><td>999   </td><td>0     </td><td> 1.4  </td><td>93.918</td><td>-42.7 </td><td>4.963 </td><td>5228.1</td><td>1     </td><td>...   </td><td>0     </td><td>0     </td><td>0     </td><td>1     </td><td>0     </td><td>0     </td><td>0     </td><td>0     </td><td>1     </td><td>0     </td></tr>\n",
       "\t<tr><th scope=row>6</th><td>7     </td><td>1     </td><td>999   </td><td>0     </td><td> 1.4  </td><td>94.465</td><td>-41.8 </td><td>4.864 </td><td>5228.1</td><td>1     </td><td>...   </td><td>0     </td><td>0     </td><td>0     </td><td>1     </td><td>0     </td><td>0     </td><td>1     </td><td>0     </td><td>1     </td><td>0     </td></tr>\n",
       "\t<tr><th scope=row>7</th><td>8     </td><td>1     </td><td>999   </td><td>0     </td><td>-0.1  </td><td>93.200</td><td>-42.0 </td><td>4.153 </td><td>5195.8</td><td>1     </td><td>...   </td><td>0     </td><td>0     </td><td>0     </td><td>1     </td><td>1     </td><td>0     </td><td>0     </td><td>1     </td><td>0     </td><td>0     </td></tr>\n",
       "</tbody>\n",
       "</table>\n"
      ],
      "text/latex": [
       "\\begin{tabular}{r|llllllllllllllllllllll}\n",
       "  & client\\_id & campaign & pdays & previous & emp.var.rate & cons.price.idx & cons.conf.idx & euribor3m & nr.employed & poutcome.nonexistent & ... & job.retired & job.services & job.student & pdays\\_999 & fall & winter & contact\\_telephone & default.no & default.unknown & subscribe\\\\\n",
       "\\hline\n",
       "\t1 & 2      & 3      & 999    & 0      &  1.1   & 93.994 & -36.4  & 4.858  & 5191.0 & 1      & ...    & 0      & 0      & 0      & 1      & 0      & 0      & 1      & 1      & 0      & 0     \\\\\n",
       "\t2 & 3      & 6      & 999    & 0      &  1.4   & 94.465 & -41.8  & 4.959  & 5228.1 & 1      & ...    & 0      & 0      & 0      & 1      & 0      & 0      & 1      & 0      & 1      & 0     \\\\\n",
       "\t3 & 4      & 2      & 999    & 0      & -0.1   & 93.200 & -42.0  & 4.153  & 5195.8 & 1      & ...    & 0      & 0      & 0      & 1      & 1      & 0      & 0      & 0      & 1      & 0     \\\\\n",
       "\t5 & 6      & 2      & 999    & 0      &  1.4   & 93.918 & -42.7  & 4.963  & 5228.1 & 1      & ...    & 0      & 0      & 0      & 1      & 0      & 0      & 0      & 0      & 1      & 0     \\\\\n",
       "\t6 & 7      & 1      & 999    & 0      &  1.4   & 94.465 & -41.8  & 4.864  & 5228.1 & 1      & ...    & 0      & 0      & 0      & 1      & 0      & 0      & 1      & 0      & 1      & 0     \\\\\n",
       "\t7 & 8      & 1      & 999    & 0      & -0.1   & 93.200 & -42.0  & 4.153  & 5195.8 & 1      & ...    & 0      & 0      & 0      & 1      & 1      & 0      & 0      & 1      & 0      & 0     \\\\\n",
       "\\end{tabular}\n"
      ],
      "text/markdown": [
       "\n",
       "| <!--/--> | client_id | campaign | pdays | previous | emp.var.rate | cons.price.idx | cons.conf.idx | euribor3m | nr.employed | poutcome.nonexistent | ... | job.retired | job.services | job.student | pdays_999 | fall | winter | contact_telephone | default.no | default.unknown | subscribe |\n",
       "|---|---|---|---|---|---|---|---|---|---|---|---|---|---|---|---|---|---|---|---|---|---|\n",
       "| 1 | 2      | 3      | 999    | 0      |  1.1   | 93.994 | -36.4  | 4.858  | 5191.0 | 1      | ...    | 0      | 0      | 0      | 1      | 0      | 0      | 1      | 1      | 0      | 0      |\n",
       "| 2 | 3      | 6      | 999    | 0      |  1.4   | 94.465 | -41.8  | 4.959  | 5228.1 | 1      | ...    | 0      | 0      | 0      | 1      | 0      | 0      | 1      | 0      | 1      | 0      |\n",
       "| 3 | 4      | 2      | 999    | 0      | -0.1   | 93.200 | -42.0  | 4.153  | 5195.8 | 1      | ...    | 0      | 0      | 0      | 1      | 1      | 0      | 0      | 0      | 1      | 0      |\n",
       "| 5 | 6      | 2      | 999    | 0      |  1.4   | 93.918 | -42.7  | 4.963  | 5228.1 | 1      | ...    | 0      | 0      | 0      | 1      | 0      | 0      | 0      | 0      | 1      | 0      |\n",
       "| 6 | 7      | 1      | 999    | 0      |  1.4   | 94.465 | -41.8  | 4.864  | 5228.1 | 1      | ...    | 0      | 0      | 0      | 1      | 0      | 0      | 1      | 0      | 1      | 0      |\n",
       "| 7 | 8      | 1      | 999    | 0      | -0.1   | 93.200 | -42.0  | 4.153  | 5195.8 | 1      | ...    | 0      | 0      | 0      | 1      | 1      | 0      | 0      | 1      | 0      | 0      |\n",
       "\n"
      ],
      "text/plain": [
       "  client_id campaign pdays previous emp.var.rate cons.price.idx cons.conf.idx\n",
       "1 2         3        999   0         1.1         93.994         -36.4        \n",
       "2 3         6        999   0         1.4         94.465         -41.8        \n",
       "3 4         2        999   0        -0.1         93.200         -42.0        \n",
       "5 6         2        999   0         1.4         93.918         -42.7        \n",
       "6 7         1        999   0         1.4         94.465         -41.8        \n",
       "7 8         1        999   0        -0.1         93.200         -42.0        \n",
       "  euribor3m nr.employed poutcome.nonexistent ... job.retired job.services\n",
       "1 4.858     5191.0      1                    ... 0           0           \n",
       "2 4.959     5228.1      1                    ... 0           0           \n",
       "3 4.153     5195.8      1                    ... 0           0           \n",
       "5 4.963     5228.1      1                    ... 0           0           \n",
       "6 4.864     5228.1      1                    ... 0           0           \n",
       "7 4.153     5195.8      1                    ... 0           0           \n",
       "  job.student pdays_999 fall winter contact_telephone default.no\n",
       "1 0           1         0    0      1                 1         \n",
       "2 0           1         0    0      1                 0         \n",
       "3 0           1         1    0      0                 0         \n",
       "5 0           1         0    0      0                 0         \n",
       "6 0           1         0    0      1                 0         \n",
       "7 0           1         1    0      0                 1         \n",
       "  default.unknown subscribe\n",
       "1 0               0        \n",
       "2 1               0        \n",
       "3 1               0        \n",
       "5 1               0        \n",
       "6 1               0        \n",
       "7 0               0        "
      ]
     },
     "metadata": {},
     "output_type": "display_data"
    }
   ],
   "source": [
    "head(Train)"
   ]
  },
  {
   "cell_type": "code",
   "execution_count": 22,
   "metadata": {},
   "outputs": [
    {
     "data": {
      "text/html": [
       "<ol class=list-inline>\n",
       "\t<li>4900</li>\n",
       "\t<li>22</li>\n",
       "</ol>\n"
      ],
      "text/latex": [
       "\\begin{enumerate*}\n",
       "\\item 4900\n",
       "\\item 22\n",
       "\\end{enumerate*}\n"
      ],
      "text/markdown": [
       "1. 4900\n",
       "2. 22\n",
       "\n",
       "\n"
      ],
      "text/plain": [
       "[1] 4900   22"
      ]
     },
     "metadata": {},
     "output_type": "display_data"
    },
    {
     "data": {
      "text/html": [
       "<ol class=list-inline>\n",
       "\t<li>2100</li>\n",
       "\t<li>22</li>\n",
       "</ol>\n"
      ],
      "text/latex": [
       "\\begin{enumerate*}\n",
       "\\item 2100\n",
       "\\item 22\n",
       "\\end{enumerate*}\n"
      ],
      "text/markdown": [
       "1. 2100\n",
       "2. 22\n",
       "\n",
       "\n"
      ],
      "text/plain": [
       "[1] 2100   22"
      ]
     },
     "metadata": {},
     "output_type": "display_data"
    },
    {
     "data": {
      "text/html": [
       "<ol class=list-inline>\n",
       "\t<li>3000</li>\n",
       "\t<li>21</li>\n",
       "</ol>\n"
      ],
      "text/latex": [
       "\\begin{enumerate*}\n",
       "\\item 3000\n",
       "\\item 21\n",
       "\\end{enumerate*}\n"
      ],
      "text/markdown": [
       "1. 3000\n",
       "2. 21\n",
       "\n",
       "\n"
      ],
      "text/plain": [
       "[1] 3000   21"
      ]
     },
     "metadata": {},
     "output_type": "display_data"
    }
   ],
   "source": [
    "# Check if train and valid have same variables\n",
    "# Train, valid, test\n",
    "dim(Train)\n",
    "dim(Valid)\n",
    "dim(Test)"
   ]
  },
  {
   "cell_type": "markdown",
   "metadata": {},
   "source": [
    "## 3. Methodology"
   ]
  },
  {
   "cell_type": "markdown",
   "metadata": {},
   "source": [
    "### 3.1 Logistic Regression model"
   ]
  },
  {
   "cell_type": "code",
   "execution_count": 58,
   "metadata": {},
   "outputs": [],
   "source": [
    "#simply preform a logistic regression with glm\n",
    "lrm <- glm(subscribe ~., data=Train[, -1], family=binomial)"
   ]
  },
  {
   "cell_type": "code",
   "execution_count": 48,
   "metadata": {},
   "outputs": [
    {
     "name": "stderr",
     "output_type": "stream",
     "text": [
      "Warning message in predict.lm(object, newdata, se.fit, scale = 1, type = if (type == :\n",
      "\"prediction from a rank-deficient fit may be misleading\""
     ]
    }
   ],
   "source": [
    "# make prediction on the test dataset\n",
    "lrm_probs <- predict(lrm, newdata= Test, type=\"response\")"
   ]
  },
  {
   "cell_type": "code",
   "execution_count": 49,
   "metadata": {},
   "outputs": [
    {
     "data": {
      "text/html": [
       "<dl class=dl-horizontal>\n",
       "\t<dt>1</dt>\n",
       "\t\t<dd>0.0858131730004852</dd>\n",
       "\t<dt>2</dt>\n",
       "\t\t<dd>0.0270639391869548</dd>\n",
       "\t<dt>3</dt>\n",
       "\t\t<dd>0.142698667576894</dd>\n",
       "\t<dt>4</dt>\n",
       "\t\t<dd>0.0195637913958696</dd>\n",
       "\t<dt>5</dt>\n",
       "\t\t<dd>0.05130297249361</dd>\n",
       "\t<dt>6</dt>\n",
       "\t\t<dd>0.0623054712027928</dd>\n",
       "</dl>\n"
      ],
      "text/latex": [
       "\\begin{description*}\n",
       "\\item[1] 0.0858131730004852\n",
       "\\item[2] 0.0270639391869548\n",
       "\\item[3] 0.142698667576894\n",
       "\\item[4] 0.0195637913958696\n",
       "\\item[5] 0.05130297249361\n",
       "\\item[6] 0.0623054712027928\n",
       "\\end{description*}\n"
      ],
      "text/markdown": [
       "1\n",
       ":   0.08581317300048522\n",
       ":   0.02706393918695483\n",
       ":   0.1426986675768944\n",
       ":   0.01956379139586965\n",
       ":   0.051302972493616\n",
       ":   0.0623054712027928\n",
       "\n"
      ],
      "text/plain": [
       "         1          2          3          4          5          6 \n",
       "0.08581317 0.02706394 0.14269867 0.01956379 0.05130297 0.06230547 "
      ]
     },
     "metadata": {},
     "output_type": "display_data"
    }
   ],
   "source": [
    "head(lrm_probs)"
   ]
  },
  {
   "cell_type": "code",
   "execution_count": 52,
   "metadata": {},
   "outputs": [],
   "source": [
    "# Output predicted file\n",
    "output <- data.frame(client_id=Test$client_id, subscribe=lrm_probs)\n",
    "write.csv(output, 'C:/Users/cxie/Desktop/lr_submission_v1.csv', row.names=FALSE)"
   ]
  },
  {
   "cell_type": "markdown",
   "metadata": {},
   "source": [
    "#### Hyper-perameter tuning"
   ]
  },
  {
   "cell_type": "code",
   "execution_count": 49,
   "metadata": {},
   "outputs": [
    {
     "name": "stderr",
     "output_type": "stream",
     "text": [
      "Starting parallelization in mode=socket with cpus=8.\n",
      "[Tune] Started tuning learner classif.logreg for parameter set:\n",
      "         Type len  Def Constr Req Tunable Trafo\n",
      "model logical   - TRUE      -   -   FALSE     -\n",
      "With control class: TuneControlGrid\n",
      "Imputation value: 1\n",
      "Exporting objects to slaves for mode socket: .mlr.slave.options\n",
      "Mapping in parallel: mode = socket; level = mlr.tuneParams; cpus = 8; elements = 2.\n",
      "[Tune] Result: model=TRUE : mmce.test.mean=0.1077551\n",
      "Stopped parallelization. All cleaned up.\n"
     ]
    }
   ],
   "source": [
    "# Set up cross-validation\n",
    "rdesc = makeResampleDesc(\"CV\", iters=10, predict=\"both\")\n",
    "\n",
    "# Define the model\n",
    "lg_lrn <- makeLearner(\"classif.logreg\", predict.type=\"prob\")\n",
    "\n",
    "# Define the task\n",
    "lg_task <- makeClassifTask(id=\"bank_train\", data=Train[, -1], target=\"subscribe\")\n",
    "\n",
    "# Set hyper parameter tuning\n",
    "tune_params <- makeParamSet(\n",
    "    \n",
    "           makeLogicalLearnerParam(\"model\", default = TRUE, tunable = FALSE)\n",
    ")\n",
    "\n",
    "ctrl = makeTuneControlGrid(resolution = 50L)\n",
    "\n",
    "parallelStartSocket(cpus = detectCores())\n",
    " \n",
    "lgPars <- tuneParams(lg_lrn, task = lg_task,\n",
    "                     resampling = rdesc,\n",
    "                     par.set = tune_params,\n",
    "                     control = ctrl)\n",
    " \n",
    "parallelStop()\n"
   ]
  },
  {
   "cell_type": "code",
   "execution_count": 50,
   "metadata": {},
   "outputs": [
    {
     "data": {
      "text/html": [
       "<strong>$model</strong> = TRUE"
      ],
      "text/latex": [
       "\\textbf{\\$model} = TRUE"
      ],
      "text/markdown": [
       "**$model** = TRUE"
      ],
      "text/plain": [
       "$model\n",
       "[1] TRUE\n"
      ]
     },
     "metadata": {},
     "output_type": "display_data"
    }
   ],
   "source": [
    "# check the tuned parameters\n",
    "lgPars$x"
   ]
  },
  {
   "cell_type": "code",
   "execution_count": 51,
   "metadata": {},
   "outputs": [],
   "source": [
    "# set learner with tuned parameters\n",
    "tunedLG <- setHyperPars(lg_lrn, par.vals = lgPars$x)"
   ]
  },
  {
   "cell_type": "code",
   "execution_count": 52,
   "metadata": {},
   "outputs": [],
   "source": [
    "# retain the model \n",
    "lgModel <- mlr::train(tunedLG, lg_task)"
   ]
  },
  {
   "cell_type": "code",
   "execution_count": 53,
   "metadata": {},
   "outputs": [
    {
     "name": "stderr",
     "output_type": "stream",
     "text": [
      "Warning message in predict.lm(object, newdata, se.fit, scale = 1, type = if (type == :\n",
      "\"prediction from a rank-deficient fit may be misleading\""
     ]
    },
    {
     "data": {
      "text/html": [
       "<strong>auc:</strong> 0.777644759402687"
      ],
      "text/latex": [
       "\\textbf{auc:} 0.777644759402687"
      ],
      "text/markdown": [
       "**auc:** 0.777644759402687"
      ],
      "text/plain": [
       "      auc \n",
       "0.7776448 "
      ]
     },
     "metadata": {},
     "output_type": "display_data"
    }
   ],
   "source": [
    "# Make prediction on valid data\n",
    "pred <- predict(lgModel, newdata=Valid[, -1])\n",
    "performance(pred, measures=mlr::auc)"
   ]
  },
  {
   "cell_type": "code",
   "execution_count": 54,
   "metadata": {},
   "outputs": [
    {
     "name": "stderr",
     "output_type": "stream",
     "text": [
      "Warning message in predict.lm(object, newdata, se.fit, scale = 1, type = if (type == :\n",
      "\"prediction from a rank-deficient fit may be misleading\""
     ]
    },
    {
     "data": {
      "text/plain": [
       "Prediction: 3000 observations\n",
       "predict.type: prob\n",
       "threshold: 0=0.50,1=0.50\n",
       "time: 0.00\n",
       "     prob.0     prob.1 response\n",
       "1 0.9131630 0.08683704        0\n",
       "2 0.9725568 0.02744318        0\n",
       "3 0.8554947 0.14450533        0\n",
       "4 0.9801755 0.01982446        0\n",
       "5 0.9480119 0.05198812        0\n",
       "6 0.9368683 0.06313175        0\n",
       "... (#rows: 3000, #cols: 3)"
      ]
     },
     "metadata": {},
     "output_type": "display_data"
    }
   ],
   "source": [
    "# Make prediction on test (holdout) data\n",
    "pred_lr <- predict(lgModel, newdata=Test[, -1])\n",
    "pred_lr"
   ]
  },
  {
   "cell_type": "code",
   "execution_count": 55,
   "metadata": {},
   "outputs": [],
   "source": [
    "# Output predicted file\n",
    "output <- data.frame(client_id=Test$client_id, subscribe=pred_lr$data$prob.1)\n",
    "write.csv(output, 'C:/Users/cxie/Desktop/lr_submission_v2.csv', row.names=FALSE)"
   ]
  },
  {
   "cell_type": "markdown",
   "metadata": {},
   "source": [
    "### 3.2 RandomForest model"
   ]
  },
  {
   "cell_type": "code",
   "execution_count": 62,
   "metadata": {},
   "outputs": [
    {
     "name": "stderr",
     "output_type": "stream",
     "text": [
      "Warning message in randomForest.default(m, y, ...):\n",
      "\"The response has five or fewer unique values.  Are you sure you want to do regression?\""
     ]
    }
   ],
   "source": [
    "# simply perform a random forest with 6 predictors for each split and 500 trees\n",
    "set.seed(12)\n",
    "rfm <- randomForest(subscribe ~., data=Train[, -1], mtry=6, ntree=500)"
   ]
  },
  {
   "cell_type": "code",
   "execution_count": 63,
   "metadata": {},
   "outputs": [],
   "source": [
    "# make prediction on test set\n",
    "rf_pred <- predict(rfm, newdata= Test)"
   ]
  },
  {
   "cell_type": "code",
   "execution_count": 65,
   "metadata": {},
   "outputs": [],
   "source": [
    "# Output predicted file\n",
    "output <- data.frame(client_id=Test$client_id, subscribe=rf_pred)\n",
    "write.csv(output, 'C:/Users/cxie/Desktop/rf_submission_v1.csv', row.names=FALSE)"
   ]
  },
  {
   "cell_type": "markdown",
   "metadata": {},
   "source": [
    "#### Hyper-perameter tuning"
   ]
  },
  {
   "cell_type": "code",
   "execution_count": 33,
   "metadata": {},
   "outputs": [
    {
     "name": "stderr",
     "output_type": "stream",
     "text": [
      "Starting parallelization in mode=socket with cpus=8.\n",
      "[Tune] Started tuning learner classif.randomForest for parameter set:\n",
      "            Type len Def    Constr Req Tunable Trafo\n",
      "ntree    integer   -   - 50 to 500   -    TRUE     -\n",
      "mtry     integer   -   -   3 to 10   -    TRUE     -\n",
      "nodesize integer   -   -  10 to 50   -    TRUE     -\n",
      "With control class: TuneControlGrid\n",
      "Imputation value: 1\n",
      "Exporting objects to slaves for mode socket: .mlr.slave.options\n",
      "Mapping in parallel: mode = socket; level = mlr.tuneParams; cpus = 8; elements = 800.\n",
      "[Tune] Result: ntree=350; mtry=5; nodesize=41 : mmce.test.mean=0.1012245\n",
      "Stopped parallelization. All cleaned up.\n"
     ]
    }
   ],
   "source": [
    "# Set up cross-validation\n",
    "rdesc = makeResampleDesc(\"CV\", iters=10)\n",
    "\n",
    "# Define the model\n",
    "rf_lrn <- makeLearner(\"classif.randomForest\", predict.type=\"prob\")\n",
    "\n",
    "# Define the task\n",
    "rf_task <- makeClassifTask(id=\"bank_train\", data=Train[, -1], target=\"subscribe\")\n",
    "\n",
    "# Set hyper parameter tuning\n",
    "tune_params <- makeParamSet(\n",
    "  makeIntegerParam(\"ntree\",lower = 50, upper = 500),\n",
    "  makeIntegerParam(\"mtry\", lower = 3, upper = 10),\n",
    "  makeIntegerParam(\"nodesize\", lower = 10, upper = 50)\n",
    ")\n",
    "ctrl = makeTuneControlRandom(maxit=100L)\n",
    "\n",
    "parallelStartSocket(cpus = detectCores())\n",
    " \n",
    "rfPars <- tuneParams(rf_lrn, task = rf_task,\n",
    "                     resampling = rdesc,\n",
    "                     par.set = tune_params,\n",
    "                     control = ctrl)\n",
    " \n",
    "parallelStop()"
   ]
  },
  {
   "cell_type": "code",
   "execution_count": 34,
   "metadata": {},
   "outputs": [
    {
     "data": {
      "text/html": [
       "<dl>\n",
       "\t<dt>$ntree</dt>\n",
       "\t\t<dd>350</dd>\n",
       "\t<dt>$mtry</dt>\n",
       "\t\t<dd>5</dd>\n",
       "\t<dt>$nodesize</dt>\n",
       "\t\t<dd>41</dd>\n",
       "</dl>\n"
      ],
      "text/latex": [
       "\\begin{description}\n",
       "\\item[\\$ntree] 350\n",
       "\\item[\\$mtry] 5\n",
       "\\item[\\$nodesize] 41\n",
       "\\end{description}\n"
      ],
      "text/markdown": [
       "$ntree\n",
       ":   350\n",
       "$mtry\n",
       ":   5\n",
       "$nodesize\n",
       ":   41\n",
       "\n",
       "\n"
      ],
      "text/plain": [
       "$ntree\n",
       "[1] 350\n",
       "\n",
       "$mtry\n",
       "[1] 5\n",
       "\n",
       "$nodesize\n",
       "[1] 41\n"
      ]
     },
     "metadata": {},
     "output_type": "display_data"
    }
   ],
   "source": [
    "# check the tuned parameters\n",
    "rfPars$x"
   ]
  },
  {
   "cell_type": "code",
   "execution_count": 35,
   "metadata": {},
   "outputs": [],
   "source": [
    "# set learner with tuned parameters\n",
    "tunedRF <- setHyperPars(rf_lrn, par.vals = rfPars$x)"
   ]
  },
  {
   "cell_type": "code",
   "execution_count": 36,
   "metadata": {},
   "outputs": [],
   "source": [
    "# retain the model \n",
    "rfModel <- mlr::train(tunedRF, rf_task)"
   ]
  },
  {
   "cell_type": "code",
   "execution_count": 37,
   "metadata": {},
   "outputs": [
    {
     "data": {
      "text/html": [
       "<strong>auc:</strong> 0.752982917461445"
      ],
      "text/latex": [
       "\\textbf{auc:} 0.752982917461445"
      ],
      "text/markdown": [
       "**auc:** 0.752982917461445"
      ],
      "text/plain": [
       "      auc \n",
       "0.7529829 "
      ]
     },
     "metadata": {},
     "output_type": "display_data"
    }
   ],
   "source": [
    "# Make prediction on valid data\n",
    "pred <- predict(rfModel, newdata=Valid[, -1])\n",
    "performance(pred, measures=mlr::auc)"
   ]
  },
  {
   "cell_type": "code",
   "execution_count": 38,
   "metadata": {},
   "outputs": [
    {
     "data": {
      "text/plain": [
       "Prediction: 3000 observations\n",
       "predict.type: prob\n",
       "threshold: 0=0.50,1=0.50\n",
       "time: 0.08\n",
       "  prob.0 prob.1 response\n",
       "1   1.00   0.00        0\n",
       "2   1.00   0.00        0\n",
       "3   0.62   0.38        0\n",
       "4   1.00   0.00        0\n",
       "5   1.00   0.00        0\n",
       "6   1.00   0.00        0\n",
       "... (#rows: 3000, #cols: 3)"
      ]
     },
     "metadata": {},
     "output_type": "display_data"
    }
   ],
   "source": [
    "# Make prediction on test data\n",
    "pred_rf <- predict(rfModel, newdata=Test[, -1])\n",
    "pred_rf"
   ]
  },
  {
   "cell_type": "code",
   "execution_count": 39,
   "metadata": {},
   "outputs": [],
   "source": [
    "# Output predicted file\n",
    "output <- data.frame(client_id=Test$client_id, subscribe=pred_rf$data$prob.1)\n",
    "write.csv(output, 'C:/Users/cxie/Desktop/rf_submission_v3.csv', row.names=FALSE)"
   ]
  },
  {
   "cell_type": "markdown",
   "metadata": {},
   "source": [
    "### 3.3 XGBoost (Extreme Gradient Boosting)"
   ]
  },
  {
   "cell_type": "code",
   "execution_count": 87,
   "metadata": {},
   "outputs": [
    {
     "name": "stderr",
     "output_type": "stream",
     "text": [
      "Warning message in train.default(x, y, weights = w, ...):\n",
      "\"You are trying to do regression and your outcome only has two possible values Are you trying to do classification? If so, use a 2 level factor as your outcome column.\""
     ]
    }
   ],
   "source": [
    "# simply preform a xgbTree with 10-fold CV \n",
    "set.seed(469)\n",
    "gbm <- train(subscribe ~., data = Train, method = \"xgbTree\",trControl = trainControl(\"cv\", number = 10))"
   ]
  },
  {
   "cell_type": "code",
   "execution_count": 88,
   "metadata": {},
   "outputs": [
    {
     "data": {
      "text/html": [
       "<table>\n",
       "<thead><tr><th></th><th scope=col>nrounds</th><th scope=col>max_depth</th><th scope=col>eta</th><th scope=col>gamma</th><th scope=col>colsample_bytree</th><th scope=col>min_child_weight</th><th scope=col>subsample</th></tr></thead>\n",
       "<tbody>\n",
       "\t<tr><th scope=row>43</th><td>50 </td><td>3  </td><td>0.3</td><td>0  </td><td>0.6</td><td>1  </td><td>1  </td></tr>\n",
       "</tbody>\n",
       "</table>\n"
      ],
      "text/latex": [
       "\\begin{tabular}{r|lllllll}\n",
       "  & nrounds & max\\_depth & eta & gamma & colsample\\_bytree & min\\_child\\_weight & subsample\\\\\n",
       "\\hline\n",
       "\t43 & 50  & 3   & 0.3 & 0   & 0.6 & 1   & 1  \\\\\n",
       "\\end{tabular}\n"
      ],
      "text/markdown": [
       "\n",
       "| <!--/--> | nrounds | max_depth | eta | gamma | colsample_bytree | min_child_weight | subsample |\n",
       "|---|---|---|---|---|---|---|---|\n",
       "| 43 | 50  | 3   | 0.3 | 0   | 0.6 | 1   | 1   |\n",
       "\n"
      ],
      "text/plain": [
       "   nrounds max_depth eta gamma colsample_bytree min_child_weight subsample\n",
       "43 50      3         0.3 0     0.6              1                1        "
      ]
     },
     "metadata": {},
     "output_type": "display_data"
    }
   ],
   "source": [
    "# check the best tune parameter for the model \n",
    "gbm$bestTune"
   ]
  },
  {
   "cell_type": "code",
   "execution_count": 93,
   "metadata": {},
   "outputs": [],
   "source": [
    "# make prediction on test set\n",
    "gbm_pred <- predict(gbm, newdata=Test)"
   ]
  },
  {
   "cell_type": "code",
   "execution_count": 95,
   "metadata": {},
   "outputs": [],
   "source": [
    "# Output predicted file\n",
    "output <- data.frame(client_id=Test$client_id, subscribe=gbm_pred)\n",
    "write.csv(output, 'C:/Users/cxie/Desktop/gb_submission_v1.csv', row.names=FALSE)"
   ]
  },
  {
   "cell_type": "markdown",
   "metadata": {},
   "source": [
    "#### Hyper-perameter tuning"
   ]
  },
  {
   "cell_type": "code",
   "execution_count": 109,
   "metadata": {},
   "outputs": [
    {
     "name": "stderr",
     "output_type": "stream",
     "text": [
      "Starting parallelization in mode=socket with cpus=8.\n",
      "[Tune] Started tuning learner classif.xgboost for parameter set:\n",
      "             Type len Def       Constr Req Tunable Trafo\n",
      "nrounds   integer   -   - 100 to 1e+03   -    TRUE     -\n",
      "max_depth integer   -   -      1 to 15   -    TRUE     -\n",
      "eta       numeric   -   - 0.001 to 0.5   -    TRUE     -\n",
      "lambda    numeric   -   -      -3 to 5   -    TRUE     Y\n",
      "With control class: TuneControlMBO\n",
      "Imputation value: 1\n",
      "Mapping in parallel: mode = socket; level = mlrMBO.feval; cpus = 8; elements = 16.\n",
      "Mapping in parallel: mode = socket; level = mlrMBO.feval; cpus = 8; elements = 1.\n",
      "Mapping in parallel: mode = socket; level = mlrMBO.feval; cpus = 8; elements = 1.\n",
      "Warning message in (function (fn, nvars, max = FALSE, pop.size = 1000, max.generations = 100, :\n",
      "\"Stopped because hard maximum generation limit was hit.\"Mapping in parallel: mode = socket; level = mlrMBO.feval; cpus = 8; elements = 1.\n",
      "Mapping in parallel: mode = socket; level = mlrMBO.feval; cpus = 8; elements = 1.\n",
      "Mapping in parallel: mode = socket; level = mlrMBO.feval; cpus = 8; elements = 1.\n",
      "Mapping in parallel: mode = socket; level = mlrMBO.feval; cpus = 8; elements = 1.\n",
      "Warning message in (function (fn, nvars, max = FALSE, pop.size = 1000, max.generations = 100, :\n",
      "\"Stopped because hard maximum generation limit was hit.\"Mapping in parallel: mode = socket; level = mlrMBO.feval; cpus = 8; elements = 1.\n",
      "Mapping in parallel: mode = socket; level = mlrMBO.feval; cpus = 8; elements = 1.\n",
      "Warning message in (function (fn, nvars, max = FALSE, pop.size = 1000, max.generations = 100, :\n",
      "\"Stopped because hard maximum generation limit was hit.\"Mapping in parallel: mode = socket; level = mlrMBO.feval; cpus = 8; elements = 1.\n",
      "Mapping in parallel: mode = socket; level = mlrMBO.feval; cpus = 8; elements = 1.\n",
      "Mapping in parallel: mode = socket; level = mlrMBO.feval; cpus = 8; elements = 1.\n",
      "Warning message in (function (fn, nvars, max = FALSE, pop.size = 1000, max.generations = 100, :\n",
      "\"Stopped because hard maximum generation limit was hit.\"Mapping in parallel: mode = socket; level = mlrMBO.feval; cpus = 8; elements = 1.\n",
      "Warning message in (function (fn, nvars, max = FALSE, pop.size = 1000, max.generations = 100, :\n",
      "\"Stopped because hard maximum generation limit was hit.\"Mapping in parallel: mode = socket; level = mlrMBO.feval; cpus = 8; elements = 1.\n",
      "Mapping in parallel: mode = socket; level = mlrMBO.feval; cpus = 8; elements = 1.\n",
      "Mapping in parallel: mode = socket; level = mlrMBO.feval; cpus = 8; elements = 1.\n",
      "Warning message in (function (fn, nvars, max = FALSE, pop.size = 1000, max.generations = 100, :\n",
      "\"Stopped because hard maximum generation limit was hit.\"Mapping in parallel: mode = socket; level = mlrMBO.feval; cpus = 8; elements = 1.\n",
      "Warning message in (function (fn, nvars, max = FALSE, pop.size = 1000, max.generations = 100, :\n",
      "\"Stopped because hard maximum generation limit was hit.\"Mapping in parallel: mode = socket; level = mlrMBO.feval; cpus = 8; elements = 1.\n",
      "Mapping in parallel: mode = socket; level = mlrMBO.feval; cpus = 8; elements = 1.\n",
      "Mapping in parallel: mode = socket; level = mlrMBO.feval; cpus = 8; elements = 1.\n",
      "Mapping in parallel: mode = socket; level = mlrMBO.feval; cpus = 8; elements = 1.\n",
      "Mapping in parallel: mode = socket; level = mlrMBO.feval; cpus = 8; elements = 1.\n",
      "Mapping in parallel: mode = socket; level = mlrMBO.feval; cpus = 8; elements = 1.\n",
      "Mapping in parallel: mode = socket; level = mlrMBO.feval; cpus = 8; elements = 1.\n",
      "Mapping in parallel: mode = socket; level = mlrMBO.feval; cpus = 8; elements = 1.\n",
      "Mapping in parallel: mode = socket; level = mlrMBO.feval; cpus = 8; elements = 1.\n",
      "Mapping in parallel: mode = socket; level = mlrMBO.feval; cpus = 8; elements = 1.\n",
      "Warning message in (function (fn, nvars, max = FALSE, pop.size = 1000, max.generations = 100, :\n",
      "\"Stopped because hard maximum generation limit was hit.\"Mapping in parallel: mode = socket; level = mlrMBO.feval; cpus = 8; elements = 1.\n",
      "Mapping in parallel: mode = socket; level = mlrMBO.feval; cpus = 8; elements = 1.\n",
      "Mapping in parallel: mode = socket; level = mlrMBO.feval; cpus = 8; elements = 1.\n",
      "Mapping in parallel: mode = socket; level = mlrMBO.feval; cpus = 8; elements = 1.\n",
      "Mapping in parallel: mode = socket; level = mlrMBO.feval; cpus = 8; elements = 1.\n",
      "Mapping in parallel: mode = socket; level = mlrMBO.feval; cpus = 8; elements = 1.\n",
      "Mapping in parallel: mode = socket; level = mlrMBO.feval; cpus = 8; elements = 1.\n",
      "Warning message in (function (fn, nvars, max = FALSE, pop.size = 1000, max.generations = 100, :\n",
      "\"Stopped because hard maximum generation limit was hit.\"Mapping in parallel: mode = socket; level = mlrMBO.feval; cpus = 8; elements = 1.\n",
      "Mapping in parallel: mode = socket; level = mlrMBO.feval; cpus = 8; elements = 1.\n",
      "Mapping in parallel: mode = socket; level = mlrMBO.feval; cpus = 8; elements = 1.\n",
      "Warning message in (function (fn, nvars, max = FALSE, pop.size = 1000, max.generations = 100, :\n",
      "\"Stopped because hard maximum generation limit was hit.\"Mapping in parallel: mode = socket; level = mlrMBO.feval; cpus = 8; elements = 1.\n",
      "Mapping in parallel: mode = socket; level = mlrMBO.feval; cpus = 8; elements = 1.\n",
      "Warning message in (function (fn, nvars, max = FALSE, pop.size = 1000, max.generations = 100, :\n",
      "\"Stopped because hard maximum generation limit was hit.\"Mapping in parallel: mode = socket; level = mlrMBO.feval; cpus = 8; elements = 1.\n",
      "Mapping in parallel: mode = socket; level = mlrMBO.feval; cpus = 8; elements = 1.\n",
      "Warning message in (function (fn, nvars, max = FALSE, pop.size = 1000, max.generations = 100, :\n",
      "\"Stopped because hard maximum generation limit was hit.\"Mapping in parallel: mode = socket; level = mlrMBO.feval; cpus = 8; elements = 1.\n",
      "Mapping in parallel: mode = socket; level = mlrMBO.feval; cpus = 8; elements = 1.\n",
      "Mapping in parallel: mode = socket; level = mlrMBO.feval; cpus = 8; elements = 1.\n",
      "Warning message in (function (fn, nvars, max = FALSE, pop.size = 1000, max.generations = 100, :\n",
      "\"Stopped because hard maximum generation limit was hit.\"Mapping in parallel: mode = socket; level = mlrMBO.feval; cpus = 8; elements = 1.\n",
      "Warning message in (function (fn, nvars, max = FALSE, pop.size = 1000, max.generations = 100, :\n",
      "\"Stopped because hard maximum generation limit was hit.\"Mapping in parallel: mode = socket; level = mlrMBO.feval; cpus = 8; elements = 1.\n",
      "Warning message in (function (fn, nvars, max = FALSE, pop.size = 1000, max.generations = 100, :\n",
      "\"Stopped because hard maximum generation limit was hit.\"Mapping in parallel: mode = socket; level = mlrMBO.feval; cpus = 8; elements = 1.\n",
      "Warning message in (function (fn, nvars, max = FALSE, pop.size = 1000, max.generations = 100, :\n",
      "\"Stopped because hard maximum generation limit was hit.\"Mapping in parallel: mode = socket; level = mlrMBO.feval; cpus = 8; elements = 1.\n",
      "Mapping in parallel: mode = socket; level = mlrMBO.feval; cpus = 8; elements = 1.\n",
      "Warning message in (function (fn, nvars, max = FALSE, pop.size = 1000, max.generations = 100, :\n",
      "\"Stopped because hard maximum generation limit was hit.\"Mapping in parallel: mode = socket; level = mlrMBO.feval; cpus = 8; elements = 1.\n",
      "Warning message in (function (fn, nvars, max = FALSE, pop.size = 1000, max.generations = 100, :\n",
      "\"Stopped because hard maximum generation limit was hit.\"Mapping in parallel: mode = socket; level = mlrMBO.feval; cpus = 8; elements = 1.\n",
      "Warning message in (function (fn, nvars, max = FALSE, pop.size = 1000, max.generations = 100, :\n",
      "\"Stopped because hard maximum generation limit was hit.\"Mapping in parallel: mode = socket; level = mlrMBO.feval; cpus = 8; elements = 1.\n",
      "Warning message in (function (fn, nvars, max = FALSE, pop.size = 1000, max.generations = 100, :\n",
      "\"Stopped because hard maximum generation limit was hit.\"Mapping in parallel: mode = socket; level = mlrMBO.feval; cpus = 8; elements = 1.\n",
      "Mapping in parallel: mode = socket; level = mlrMBO.feval; cpus = 8; elements = 1.\n",
      "Warning message in (function (fn, nvars, max = FALSE, pop.size = 1000, max.generations = 100, :\n",
      "\"Stopped because hard maximum generation limit was hit.\"Mapping in parallel: mode = socket; level = mlrMBO.feval; cpus = 8; elements = 1.\n",
      "Warning message in (function (fn, nvars, max = FALSE, pop.size = 1000, max.generations = 100, :\n"
     ]
    },
    {
     "name": "stderr",
     "output_type": "stream",
     "text": [
      "\"Stopped because hard maximum generation limit was hit.\"Mapping in parallel: mode = socket; level = mlrMBO.feval; cpus = 8; elements = 1.\n",
      "Warning message in (function (fn, nvars, max = FALSE, pop.size = 1000, max.generations = 100, :\n",
      "\"Stopped because hard maximum generation limit was hit.\"Mapping in parallel: mode = socket; level = mlrMBO.feval; cpus = 8; elements = 1.\n",
      "Mapping in parallel: mode = socket; level = mlrMBO.feval; cpus = 8; elements = 1.\n",
      "Mapping in parallel: mode = socket; level = mlrMBO.feval; cpus = 8; elements = 1.\n",
      "Warning message in (function (fn, nvars, max = FALSE, pop.size = 1000, max.generations = 100, :\n",
      "\"Stopped because hard maximum generation limit was hit.\"Mapping in parallel: mode = socket; level = mlrMBO.feval; cpus = 8; elements = 1.\n",
      "Mapping in parallel: mode = socket; level = mlrMBO.feval; cpus = 8; elements = 1.\n",
      "Mapping in parallel: mode = socket; level = mlrMBO.feval; cpus = 8; elements = 1.\n",
      "Warning message in (function (fn, nvars, max = FALSE, pop.size = 1000, max.generations = 100, :\n",
      "\"Stopped because hard maximum generation limit was hit.\"Mapping in parallel: mode = socket; level = mlrMBO.feval; cpus = 8; elements = 1.\n",
      "Mapping in parallel: mode = socket; level = mlrMBO.feval; cpus = 8; elements = 1.\n",
      "Mapping in parallel: mode = socket; level = mlrMBO.feval; cpus = 8; elements = 1.\n",
      "Mapping in parallel: mode = socket; level = mlrMBO.feval; cpus = 8; elements = 1.\n",
      "Warning message in (function (fn, nvars, max = FALSE, pop.size = 1000, max.generations = 100, :\n",
      "\"Stopped because hard maximum generation limit was hit.\"Mapping in parallel: mode = socket; level = mlrMBO.feval; cpus = 8; elements = 1.\n",
      "Warning message in (function (fn, nvars, max = FALSE, pop.size = 1000, max.generations = 100, :\n",
      "\"Stopped because hard maximum generation limit was hit.\"Mapping in parallel: mode = socket; level = mlrMBO.feval; cpus = 8; elements = 1.\n",
      "Warning message in (function (fn, nvars, max = FALSE, pop.size = 1000, max.generations = 100, :\n",
      "\"Stopped because hard maximum generation limit was hit.\"Mapping in parallel: mode = socket; level = mlrMBO.feval; cpus = 8; elements = 1.\n",
      "Warning message in (function (fn, nvars, max = FALSE, pop.size = 1000, max.generations = 100, :\n",
      "\"Stopped because hard maximum generation limit was hit.\"Mapping in parallel: mode = socket; level = mlrMBO.feval; cpus = 8; elements = 1.\n",
      "Warning message in (function (fn, nvars, max = FALSE, pop.size = 1000, max.generations = 100, :\n",
      "\"Stopped because hard maximum generation limit was hit.\"Mapping in parallel: mode = socket; level = mlrMBO.feval; cpus = 8; elements = 1.\n",
      "Warning message in (function (fn, nvars, max = FALSE, pop.size = 1000, max.generations = 100, :\n",
      "\"Stopped because hard maximum generation limit was hit.\"Mapping in parallel: mode = socket; level = mlrMBO.feval; cpus = 8; elements = 1.\n",
      "Mapping in parallel: mode = socket; level = mlrMBO.feval; cpus = 8; elements = 1.\n",
      "Warning message in (function (fn, nvars, max = FALSE, pop.size = 1000, max.generations = 100, :\n",
      "\"Stopped because hard maximum generation limit was hit.\"Mapping in parallel: mode = socket; level = mlrMBO.feval; cpus = 8; elements = 1.\n",
      "Warning message in (function (fn, nvars, max = FALSE, pop.size = 1000, max.generations = 100, :\n",
      "\"Stopped because hard maximum generation limit was hit.\"Mapping in parallel: mode = socket; level = mlrMBO.feval; cpus = 8; elements = 1.\n",
      "Warning message in (function (fn, nvars, max = FALSE, pop.size = 1000, max.generations = 100, :\n",
      "\"Stopped because hard maximum generation limit was hit.\"Mapping in parallel: mode = socket; level = mlrMBO.feval; cpus = 8; elements = 1.\n",
      "Warning message in (function (fn, nvars, max = FALSE, pop.size = 1000, max.generations = 100, :\n",
      "\"Stopped because hard maximum generation limit was hit.\"Mapping in parallel: mode = socket; level = mlrMBO.feval; cpus = 8; elements = 1.\n",
      "Warning message in (function (fn, nvars, max = FALSE, pop.size = 1000, max.generations = 100, :\n",
      "\"Stopped because hard maximum generation limit was hit.\"Mapping in parallel: mode = socket; level = mlrMBO.feval; cpus = 8; elements = 1.\n",
      "Mapping in parallel: mode = socket; level = mlrMBO.feval; cpus = 8; elements = 1.\n",
      "Mapping in parallel: mode = socket; level = mlrMBO.feval; cpus = 8; elements = 1.\n",
      "Warning message in (function (fn, nvars, max = FALSE, pop.size = 1000, max.generations = 100, :\n",
      "\"Stopped because hard maximum generation limit was hit.\"Mapping in parallel: mode = socket; level = mlrMBO.feval; cpus = 8; elements = 1.\n",
      "Warning message in (function (fn, nvars, max = FALSE, pop.size = 1000, max.generations = 100, :\n",
      "\"Stopped because hard maximum generation limit was hit.\"[Tune] Result: nrounds=754; max_depth=4; eta=0.0981; lambda=399 : mmce.test.mean=0.1008163\n",
      "Stopped parallelization. All cleaned up.\n"
     ]
    }
   ],
   "source": [
    "# Define the model\n",
    "gb_lrn <- makeLearner(\"classif.xgboost\", predict.type=\"prob\")\n",
    "\n",
    "# Define the task\n",
    "gb_task <- makeClassifTask(id=\"pred_subs\", data=Train[, -1], target=\"subscribe\")\n",
    "\n",
    "# Set up cross-validation\n",
    "rdesc <- makeResampleDesc(\"CV\", iters=10, predict=\"both\")\n",
    "cv_inst <- makeResampleInstance(rdesc, task = gb_task)\n",
    "\n",
    "# Set hyper parameter tuning\n",
    "tune_params <- makeParamSet(\n",
    "   makeIntegerParam(\"nrounds\", lower = 100, upper = 1000),\n",
    "  makeIntegerParam(\"max_depth\", lower = 1, upper = 15),\n",
    "  makeNumericParam(\"eta\", lower = .001, upper = .5),\n",
    "  makeNumericParam(\"lambda\", lower = -1, upper = 3, trafo = function(x) 10^x))\n",
    "                   \n",
    "# set tune control                   \n",
    "mbo.ctrl <- makeMBOControl()\n",
    "mbo.ctrl <- setMBOControlTermination(mbo.ctrl, iters = 50)\n",
    "ctrl <- mlr:::makeTuneControlMBO(mbo.control = mbo.ctrl)\n",
    "\n",
    "parallelStartSocket(cpus = detectCores())\n",
    " \n",
    "xgbstPars <- tuneParams(gb_lrn, task = gb_task,\n",
    "                     resampling = cv_inst,\n",
    "                     par.set = tune_params,\n",
    "                     control = ctrl)\n",
    " \n",
    "parallelStop()"
   ]
  },
  {
   "cell_type": "code",
   "execution_count": 110,
   "metadata": {},
   "outputs": [
    {
     "data": {
      "text/html": [
       "<dl>\n",
       "\t<dt>$nrounds</dt>\n",
       "\t\t<dd>754</dd>\n",
       "\t<dt>$max_depth</dt>\n",
       "\t\t<dd>4</dd>\n",
       "\t<dt>$eta</dt>\n",
       "\t\t<dd>0.0981178405661819</dd>\n",
       "\t<dt>$lambda</dt>\n",
       "\t\t<dd>399.190841842762</dd>\n",
       "</dl>\n"
      ],
      "text/latex": [
       "\\begin{description}\n",
       "\\item[\\$nrounds] 754\n",
       "\\item[\\$max\\_depth] 4\n",
       "\\item[\\$eta] 0.0981178405661819\n",
       "\\item[\\$lambda] 399.190841842762\n",
       "\\end{description}\n"
      ],
      "text/markdown": [
       "$nrounds\n",
       ":   754\n",
       "$max_depth\n",
       ":   4\n",
       "$eta\n",
       ":   0.0981178405661819\n",
       "$lambda\n",
       ":   399.190841842762\n",
       "\n",
       "\n"
      ],
      "text/plain": [
       "$nrounds\n",
       "[1] 754\n",
       "\n",
       "$max_depth\n",
       "[1] 4\n",
       "\n",
       "$eta\n",
       "[1] 0.09811784\n",
       "\n",
       "$lambda\n",
       "[1] 399.1908\n"
      ]
     },
     "metadata": {},
     "output_type": "display_data"
    }
   ],
   "source": [
    "# check the tuned parameters\n",
    "xgbstPars$x"
   ]
  },
  {
   "cell_type": "code",
   "execution_count": 111,
   "metadata": {},
   "outputs": [],
   "source": [
    "# set learner with tuned parameters\n",
    "tunedXGB <- setHyperPars(gb_lrn, par.vals = xgbstPars$x)"
   ]
  },
  {
   "cell_type": "code",
   "execution_count": 112,
   "metadata": {},
   "outputs": [],
   "source": [
    "# retain the model \n",
    "xgbModel <- mlr::train(tunedXGB, gb_task)"
   ]
  },
  {
   "cell_type": "code",
   "execution_count": 113,
   "metadata": {},
   "outputs": [
    {
     "data": {
      "text/html": [
       "<strong>auc:</strong> 0.796311366485485"
      ],
      "text/latex": [
       "\\textbf{auc:} 0.796311366485485"
      ],
      "text/markdown": [
       "**auc:** 0.796311366485485"
      ],
      "text/plain": [
       "      auc \n",
       "0.7963114 "
      ]
     },
     "metadata": {},
     "output_type": "display_data"
    }
   ],
   "source": [
    "# Make prediction on valid data\n",
    "pred <- predict(xgbModel, newdata=Valid[, -1])\n",
    "performance(pred, measures=mlr::auc)"
   ]
  },
  {
   "cell_type": "code",
   "execution_count": 107,
   "metadata": {},
   "outputs": [
    {
     "data": {
      "text/plain": [
       "Prediction: 3000 observations\n",
       "predict.type: prob\n",
       "threshold: 0=0.50,1=0.50\n",
       "time: 0.00\n",
       "      prob.1    prob.0 response\n",
       "1 0.06919491 0.9308051        0\n",
       "2 0.05289614 0.9471039        0\n",
       "3 0.28430158 0.7156984        0\n",
       "4 0.06129634 0.9387037        0\n",
       "5 0.04288912 0.9571109        0\n",
       "6 0.05313450 0.9468655        0\n",
       "... (#rows: 3000, #cols: 3)"
      ]
     },
     "metadata": {},
     "output_type": "display_data"
    }
   ],
   "source": [
    "# Make prediction on test data\n",
    "pred_gb <- predict(xgbModel, newdata=Test[,-1])\n",
    "pred_gb"
   ]
  },
  {
   "cell_type": "code",
   "execution_count": 108,
   "metadata": {},
   "outputs": [],
   "source": [
    "# Output predicted file\n",
    "output <- data.frame(client_id=Test$client_id, subscribe=pred_gb$data$prob.1)\n",
    "write.csv(output, 'C:/Users/cxie/Desktop/gb_submission_v8.csv', row.names=FALSE)"
   ]
  },
  {
   "cell_type": "markdown",
   "metadata": {},
   "source": [
    "### 3.4 Support Vector Machines (SVM)"
   ]
  },
  {
   "cell_type": "code",
   "execution_count": 74,
   "metadata": {},
   "outputs": [],
   "source": [
    "# simply apply a svm with manual set parameter\n",
    "svmm <- svm(subscribe ~., data= Train, kernel ='radial', gama =1, cost=1)"
   ]
  },
  {
   "cell_type": "code",
   "execution_count": 75,
   "metadata": {},
   "outputs": [],
   "source": [
    "# make prediction on test\n",
    "svm_pred <- predict(svmm, newdata=Test)"
   ]
  },
  {
   "cell_type": "code",
   "execution_count": 76,
   "metadata": {},
   "outputs": [],
   "source": [
    "# Output predicted file\n",
    "output <- data.frame(client_id=Test$client_id, subscribe=svm_pred)\n",
    "write.csv(output, 'C:/Users/cxie/Desktop/svm_submission_v1.csv', row.names=FALSE)"
   ]
  },
  {
   "cell_type": "markdown",
   "metadata": {},
   "source": [
    "#### Hyper-perameter tuning"
   ]
  },
  {
   "cell_type": "code",
   "execution_count": 24,
   "metadata": {},
   "outputs": [
    {
     "name": "stderr",
     "output_type": "stream",
     "text": [
      "Starting parallelization in mode=socket with cpus=8.\n",
      "[Tune] Started tuning learner classif.svm for parameter set:\n",
      "          Type len Def    Constr Req Tunable Trafo\n",
      "degree integer   -   -    1 to 3   -    TRUE     -\n",
      "cost   numeric   -   - 0.1 to 10   -    TRUE     -\n",
      "gamma  numeric   -   - 0.1 to 10   -    TRUE     -\n",
      "With control class: TuneControlRandom\n",
      "Imputation value: 1\n",
      "Exporting objects to slaves for mode socket: .mlr.slave.options\n",
      "Mapping in parallel: mode = socket; level = mlr.tuneParams; cpus = 8; elements = 100.\n",
      "[Tune] Result: degree=1; cost=3.94; gamma=0.436 : mmce.test.mean=0.1089351\n",
      "Stopped parallelization. All cleaned up.\n"
     ]
    }
   ],
   "source": [
    "# Define the model\n",
    "svm_lrn <- makeLearner(\"classif.svm\", predict.type=\"prob\")\n",
    "\n",
    "# Define the task\n",
    "svm_task <- makeClassifTask(id=\"pred_subs\", data=Train[, -1], target=\"subscribe\")\n",
    "\n",
    "# Set up cross-validation\n",
    "rdesc <- makeResampleDesc(\"Holdout\", split = 2/3)\n",
    "\n",
    "# Set hyper parameter tuning\n",
    "tune_params <- makeParamSet(\n",
    "  makeIntegerParam(\"degree\", lower = 1, upper = 3),\n",
    "  makeNumericParam(\"cost\", lower = 0.1, upper = 10),\n",
    "  makeNumericParam(\"gamma\", lower = 0.1, 10))\n",
    "\n",
    "# set up tunr control\n",
    "ctrl <- mlr:::makeTuneControlRandom()\n",
    " \n",
    "parallelStartSocket(cpus = detectCores())\n",
    " \n",
    "tunedSvmPars <- tuneParams(svm_lrn, task = svm_task,\n",
    "                     resampling = rdesc,\n",
    "                     par.set = tune_params,\n",
    "                     control = ctrl)\n",
    " \n",
    "parallelStop()"
   ]
  },
  {
   "cell_type": "code",
   "execution_count": 25,
   "metadata": {},
   "outputs": [
    {
     "data": {
      "text/html": [
       "<dl>\n",
       "\t<dt>$degree</dt>\n",
       "\t\t<dd>1</dd>\n",
       "\t<dt>$cost</dt>\n",
       "\t\t<dd>3.93703794872854</dd>\n",
       "\t<dt>$gamma</dt>\n",
       "\t\t<dd>0.435587043501437</dd>\n",
       "</dl>\n"
      ],
      "text/latex": [
       "\\begin{description}\n",
       "\\item[\\$degree] 1\n",
       "\\item[\\$cost] 3.93703794872854\n",
       "\\item[\\$gamma] 0.435587043501437\n",
       "\\end{description}\n"
      ],
      "text/markdown": [
       "$degree\n",
       ":   1\n",
       "$cost\n",
       ":   3.93703794872854\n",
       "$gamma\n",
       ":   0.435587043501437\n",
       "\n",
       "\n"
      ],
      "text/plain": [
       "$degree\n",
       "[1] 1\n",
       "\n",
       "$cost\n",
       "[1] 3.937038\n",
       "\n",
       "$gamma\n",
       "[1] 0.435587\n"
      ]
     },
     "metadata": {},
     "output_type": "display_data"
    }
   ],
   "source": [
    "# check the tuned parameters\n",
    "tunedSvmPars$x"
   ]
  },
  {
   "cell_type": "code",
   "execution_count": 78,
   "metadata": {},
   "outputs": [],
   "source": [
    "# set learner with tuned parameters\n",
    "tunedSvm <- setHyperPars(svm_lrn, par.vals = tunedSvmPars$x)"
   ]
  },
  {
   "cell_type": "code",
   "execution_count": 79,
   "metadata": {},
   "outputs": [],
   "source": [
    "# retain the model\n",
    "svmModel <- mlr::train(tunedSvm, svm_task)"
   ]
  },
  {
   "cell_type": "code",
   "execution_count": 80,
   "metadata": {},
   "outputs": [
    {
     "data": {
      "text/html": [
       "<strong>auc:</strong> 0.644354859574148"
      ],
      "text/latex": [
       "\\textbf{auc:} 0.644354859574148"
      ],
      "text/markdown": [
       "**auc:** 0.644354859574148"
      ],
      "text/plain": [
       "      auc \n",
       "0.6443549 "
      ]
     },
     "metadata": {},
     "output_type": "display_data"
    }
   ],
   "source": [
    "# Make prediction on valid data\n",
    "pred <- predict(svmModel, newdata=Valid[, -1])\n",
    "performance(pred, measures=mlr::auc)"
   ]
  },
  {
   "cell_type": "code",
   "execution_count": 149,
   "metadata": {
    "scrolled": true
   },
   "outputs": [
    {
     "data": {
      "text/plain": [
       "Prediction: 3000 observations\n",
       "predict.type: prob\n",
       "threshold: 0=0.50,1=0.50\n",
       "time: 0.28\n",
       "     prob.0     prob.1 response\n",
       "1 0.9065590 0.09344097        0\n",
       "2 0.9077223 0.09227772        0\n",
       "3 0.8961444 0.10385563        0\n",
       "4 0.9064425 0.09355751        0\n",
       "5 0.9066089 0.09339113        0\n",
       "6 0.9065427 0.09345732        0\n",
       "... (#rows: 3000, #cols: 3)"
      ]
     },
     "metadata": {},
     "output_type": "display_data"
    }
   ],
   "source": [
    "# Make prediction on test data\n",
    "pred_tsvm<- predict(svmModel, newdata=Test[,-1])\n",
    "pred_tsvm"
   ]
  },
  {
   "cell_type": "code",
   "execution_count": 154,
   "metadata": {},
   "outputs": [],
   "source": [
    "# Output predicted file\n",
    "output <- data.frame(client_id=Test$client_id, subscribe=pred_tsvm$data$prob.1)\n",
    "write.csv(output, 'C:/Users/cxie/Desktop/svm_submission_v2.csv', row.names=FALSE)"
   ]
  },
  {
   "cell_type": "markdown",
   "metadata": {},
   "source": [
    "### 3.5 K Nearest Neighbors (KNN)"
   ]
  },
  {
   "cell_type": "code",
   "execution_count": 49,
   "metadata": {},
   "outputs": [
    {
     "data": {
      "text/plain": [
       "             Type len     Def                                   Constr Req\n",
       "k         integer   -       7                                 1 to Inf   -\n",
       "distance  numeric   -       2                                 0 to Inf   -\n",
       "kernel   discrete   - optimal rectangular,triangular,epanechnikov,b...   -\n",
       "scale     logical   -    TRUE                                        -   -\n",
       "         Tunable Trafo\n",
       "k           TRUE     -\n",
       "distance    TRUE     -\n",
       "kernel      TRUE     -\n",
       "scale       TRUE     -"
      ]
     },
     "metadata": {},
     "output_type": "display_data"
    }
   ],
   "source": [
    "getParamSet(\"classif.kknn\")"
   ]
  },
  {
   "cell_type": "code",
   "execution_count": 56,
   "metadata": {},
   "outputs": [
    {
     "name": "stderr",
     "output_type": "stream",
     "text": [
      "Starting parallelization in mode=socket with cpus=8.\n",
      "[Tune] Started tuning learner classif.kknn for parameter set:\n",
      "            Type len Def  Constr Req Tunable Trafo\n",
      "k        integer   -   - 5 to 15   -    TRUE     -\n",
      "distance numeric   -   -  1 to 3   -    TRUE     -\n",
      "With control class: TuneControlRandom\n",
      "Imputation value: 1\n",
      "Exporting objects to slaves for mode socket: .mlr.slave.options\n",
      "Mapping in parallel: mode = socket; level = mlr.tuneParams; cpus = 8; elements = 100.\n",
      "[Tune] Result: k=14; distance=1.47 : mmce.test.mean=0.1044898\n",
      "Stopped parallelization. All cleaned up.\n"
     ]
    }
   ],
   "source": [
    "# Define the model\n",
    "knn_lrn <- makeLearner(\"classif.kknn\", predict.type=\"prob\")\n",
    "\n",
    "# Define the task\n",
    "knn_task <- makeClassifTask(id=\"pred_subs\", data=Train[, -1], target=\"subscribe\")\n",
    "\n",
    "# Set up cross-validation\n",
    "rdesc <- makeResampleDesc(\"CV\", iters=10, predict=\"both\")\n",
    "\n",
    "# Set hyper parameter tuning\n",
    "tune_params <- makeParamSet(\n",
    "       makeIntegerLearnerParam(\"k\", lower = 5, upper = 15),\n",
    "       makeNumericLearnerParam(\"distance\", lower = 1, upper = 3))\n",
    "\n",
    "# set up tunr control\n",
    "ctrl <- mlr:::makeTuneControlRandom(maxit = 100L)\n",
    " \n",
    "parallelStartSocket(cpus = detectCores())\n",
    " \n",
    "knnPars <- tuneParams(knn_lrn, task = knn_task,\n",
    "                     resampling = rdesc,\n",
    "                     par.set = tune_params,\n",
    "                     control = ctrl)\n",
    " \n",
    "parallelStop()"
   ]
  },
  {
   "cell_type": "code",
   "execution_count": 57,
   "metadata": {},
   "outputs": [
    {
     "data": {
      "text/html": [
       "<dl>\n",
       "\t<dt>$k</dt>\n",
       "\t\t<dd>14</dd>\n",
       "\t<dt>$distance</dt>\n",
       "\t\t<dd>1.47041056538001</dd>\n",
       "</dl>\n"
      ],
      "text/latex": [
       "\\begin{description}\n",
       "\\item[\\$k] 14\n",
       "\\item[\\$distance] 1.47041056538001\n",
       "\\end{description}\n"
      ],
      "text/markdown": [
       "$k\n",
       ":   14\n",
       "$distance\n",
       ":   1.47041056538001\n",
       "\n",
       "\n"
      ],
      "text/plain": [
       "$k\n",
       "[1] 14\n",
       "\n",
       "$distance\n",
       "[1] 1.470411\n"
      ]
     },
     "metadata": {},
     "output_type": "display_data"
    }
   ],
   "source": [
    "# check the tuned parameters\n",
    "knnPars$x"
   ]
  },
  {
   "cell_type": "code",
   "execution_count": 58,
   "metadata": {},
   "outputs": [],
   "source": [
    "# set learner with tuned parameters\n",
    "tunedKNN <- setHyperPars(knn_lrn, par.vals = knnPars$x)"
   ]
  },
  {
   "cell_type": "code",
   "execution_count": 59,
   "metadata": {},
   "outputs": [],
   "source": [
    "# retain the model \n",
    "knnModel <- mlr::train(tunedKNN, knn_task)"
   ]
  },
  {
   "cell_type": "code",
   "execution_count": 60,
   "metadata": {},
   "outputs": [
    {
     "data": {
      "text/html": [
       "<strong>auc:</strong> 0.732206571003196"
      ],
      "text/latex": [
       "\\textbf{auc:} 0.732206571003196"
      ],
      "text/markdown": [
       "**auc:** 0.732206571003196"
      ],
      "text/plain": [
       "      auc \n",
       "0.7322066 "
      ]
     },
     "metadata": {},
     "output_type": "display_data"
    }
   ],
   "source": [
    "# Make prediction on valid data\n",
    "pred <- predict(knnModel, newdata=Valid[, -1])\n",
    "performance(pred, measures=mlr::auc)"
   ]
  },
  {
   "cell_type": "code",
   "execution_count": 61,
   "metadata": {},
   "outputs": [
    {
     "data": {
      "text/plain": [
       "Prediction: 3000 observations\n",
       "predict.type: prob\n",
       "threshold: 0=0.50,1=0.50\n",
       "time: 3.90\n",
       "     prob.0    prob.1 response\n",
       "1 1.0000000 0.0000000        0\n",
       "2 1.0000000 0.0000000        0\n",
       "3 0.8585838 0.1414162        0\n",
       "4 0.9298261 0.0701739        0\n",
       "5 0.8416404 0.1583596        0\n",
       "6 0.8752565 0.1247435        0\n",
       "... (#rows: 3000, #cols: 3)"
      ]
     },
     "metadata": {},
     "output_type": "display_data"
    }
   ],
   "source": [
    "# Make prediction on test data\n",
    "pred_knn<- predict(knnModel, newdata=Test[,-1])\n",
    "pred_knn"
   ]
  },
  {
   "cell_type": "code",
   "execution_count": 62,
   "metadata": {},
   "outputs": [],
   "source": [
    "# Output predicted file\n",
    "output <- data.frame(client_id=Test$client_id, subscribe=pred_knn$data$prob.1)\n",
    "write.csv(output, 'C:/Users/cxie/Desktop/knn_submission_v2.csv', row.names=FALSE)"
   ]
  },
  {
   "cell_type": "markdown",
   "metadata": {},
   "source": [
    "### 3.6 Princple Compnents Regression (PCR)"
   ]
  },
  {
   "cell_type": "code",
   "execution_count": 64,
   "metadata": {},
   "outputs": [],
   "source": [
    "set.seed(123)\n",
    "pcrm <- pcr(subscribe ~., data=Train[, -1], scale=TRUE, validation='CV')"
   ]
  },
  {
   "cell_type": "code",
   "execution_count": 65,
   "metadata": {},
   "outputs": [
    {
     "data": {
      "image/png": "[encoded data removed]",
      "text/plain": [
       "Plot with title \"subscribe\""
      ]
     },
     "metadata": {},
     "output_type": "display_data"
    }
   ],
   "source": [
    "validationplot(pcrm, val.type=\"MSEP\")"
   ]
  },
  {
   "cell_type": "code",
   "execution_count": 75,
   "metadata": {},
   "outputs": [],
   "source": [
    "pcr_pred <- predict(pcrm, newdata=Test, ncomp=16)"
   ]
  },
  {
   "cell_type": "code",
   "execution_count": 76,
   "metadata": {},
   "outputs": [],
   "source": [
    "# Output predicted file\n",
    "output <- data.frame(client_id=Test$client_id, subscribe=pcr_pred)\n",
    "write.csv(output, 'C:/Users/cxie/Desktop/pcr_submission_v6.csv', row.names=FALSE)"
   ]
  },
  {
   "cell_type": "markdown",
   "metadata": {},
   "source": [
    "### 3.7 GAMs"
   ]
  },
  {
   "cell_type": "code",
   "execution_count": 78,
   "metadata": {},
   "outputs": [
    {
     "name": "stderr",
     "output_type": "stream",
     "text": [
      "Warning message in model.matrix.default(mt, mf, contrasts):\n",
      "\"non-list contrasts argument ignored\""
     ]
    }
   ],
   "source": [
    "gamm <- gam(subscribe ~., data=Train)"
   ]
  },
  {
   "cell_type": "code",
   "execution_count": 79,
   "metadata": {},
   "outputs": [
    {
     "name": "stderr",
     "output_type": "stream",
     "text": [
      "Warning message in predict.lm(object, newdata, se.fit, scale = 1, type = if (type == :\n",
      "\"prediction from a rank-deficient fit may be misleading\""
     ]
    }
   ],
   "source": [
    "gam_pred <- predict(gamm, newdata=Test)"
   ]
  },
  {
   "cell_type": "code",
   "execution_count": 81,
   "metadata": {},
   "outputs": [],
   "source": [
    "# Output predicted file\n",
    "output <- data.frame(client_id=Test$client_id, subscribe=gam_pred)\n",
    "write.csv(output, 'C:/Users/cxie/Desktop/gam_submission_v1.csv', row.names=FALSE)"
   ]
  }
 ],
 "metadata": {
  "kernelspec": {
   "display_name": "R",
   "language": "R",
   "name": "ir"
  },
  "language_info": {
   "codemirror_mode": "r",
   "file_extension": ".r",
   "mimetype": "text/x-r-source",
   "name": "R",
   "pygments_lexer": "r",
   "version": "3.6.1"
  }
 },
 "nbformat": 4,
 "nbformat_minor": 4
}
